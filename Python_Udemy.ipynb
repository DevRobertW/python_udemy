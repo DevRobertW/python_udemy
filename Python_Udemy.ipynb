{
  "nbformat": 4,
  "nbformat_minor": 0,
  "metadata": {
    "colab": {
      "provenance": [],
      "include_colab_link": true
    },
    "kernelspec": {
      "name": "python3",
      "display_name": "Python 3"
    },
    "language_info": {
      "name": "python"
    }
  },
  "cells": [
    {
      "cell_type": "markdown",
      "metadata": {
        "id": "view-in-github",
        "colab_type": "text"
      },
      "source": [
        "<a href=\"https://colab.research.google.com/github/DevRobertW/python_udemy/blob/main/Python_Udemy.ipynb\" target=\"_parent\"><img src=\"https://colab.research.google.com/assets/colab-badge.svg\" alt=\"Open In Colab\"/></a>"
      ]
    },
    {
      "cell_type": "markdown",
      "source": [
        "# Operação ternária"
      ],
      "metadata": {
        "id": "zrGzdfaf0K3s"
      }
    },
    {
      "cell_type": "markdown",
      "source": [
        "A operação ternária, também conhecida como expressão condicional de uma linha, permite que você atribua um valor a uma variável com base em uma condição. A sintaxe geral é:\n",
        "\n",
        "\n",
        "`<valor_se_verdadeiro> if <condicao> else <valor_se_falso>`\n",
        "\n",
        "A expressão print('Valor' if False else 'Outro valor' if False else 'Fim') contém múltiplos operadores ternários aninhados. Vamos quebrá-la passo a passo:\n",
        "\n",
        "Avaliação externa: False.\n",
        "\n",
        "Como a condição externa (False) é falsa, o valor após else é avaliado.\n",
        "Avaliação do primeiro operador ternário interno: 'Outro valor' if False else 'Fim'.\n",
        "\n",
        "Aqui, a condição é False, então o valor após else é 'Fim'.\n",
        "Portanto, a expressão print('Valor' if False else 'Outro valor' if False else 'Fim') imprimirá 'Fim', pois ambas as condições nos operadores ternários aninhados são falsas, resultando no valor após o último else"
      ],
      "metadata": {
        "id": "iADj-sdWDbI3"
      }
    },
    {
      "cell_type": "code",
      "execution_count": null,
      "metadata": {
        "colab": {
          "base_uri": "https://localhost:8080/"
        },
        "id": "YoE2kpuoAL_4",
        "outputId": "bd3b170a-670b-4547-dad5-b319f948ef91"
      },
      "outputs": [
        {
          "output_type": "stream",
          "name": "stdout",
          "text": [
            "Fim\n"
          ]
        }
      ],
      "source": [
        "\"\"\"\n",
        "Operação ternária (condicional de uma linha)\n",
        "<valor> if <condicao> else <outro valor>\n",
        "\"\"\"\n",
        "# condicao = 10 == 11\n",
        "# variavel = 'Valor' if condicao else 'Outro valor'\n",
        "# print(variavel)\n",
        "# digito = 9  # > 9 = 0\n",
        "# novo_digito = digito if digito <= 9 else 0\n",
        "# novo_digito = 0 if digito > 9 else digito\n",
        "# print(novo_digito)\n",
        "print('Valor' if False else 'Outro valor' if False else 'Fim')"
      ]
    },
    {
      "cell_type": "markdown",
      "source": [
        "Esse código Python tem como objetivo validar se um CPF fornecido pelo usuário é válido, de acordo com as regras de cálculo dos dígitos verificadores do CPF no Brasil. Vamos explicar passo a passo o que cada parte do código faz:\n",
        "\n",
        "Explicação do Código:\n",
        "Variáveis iniciais:\n",
        "\n",
        "python\n",
        "\n",
        "\n",
        "\n",
        "```\n",
        "cpf_enviado_usuario = '74682489070'\n",
        "nove_digitos = cpf_enviado_usuario[:9]\n",
        "contador_regressivo_1 = 10\n",
        "```\n",
        "\n",
        "\n",
        "cpf_enviado_usuario: Representa o CPF fornecido pelo usuário sem formatação (apenas dígitos).\n",
        "nove_digitos: Obtém os primeiros nove dígitos do CPF, que são os dígitos básicos sem os dígitos verificadores.\n",
        "contador_regressivo_1: Inicializa um contador regressivo que começa em 10.\n",
        "Cálculo do primeiro dígito verificador:\n",
        "\n",
        "python\n",
        "Copiar código\n",
        "\n",
        "resultado_digito_1: Inicializa a variável para acumular a soma dos produtos entre cada dígito e o respectivo peso.\n",
        "Loop for: Itera sobre cada dígito nos primeiros nove dígitos do CPF.\n",
        "contador_regressivo_1 é decrementado a cada iteração.\n",
        "digito_1: Calcula o primeiro dígito verificador multiplicando o resultado por 10 e calculando o resto da divisão por 11. Se o resultado for maior que 9, o dígito é definido como 0.\n",
        "\n",
        "```\n",
        "resultado_digito_1 = 0\n",
        "for digito in nove_digitos:\n",
        "    resultado_digito_1 += int(digito) * contador_regressivo_1\n",
        "    contador_regressivo_1 -= 1\n",
        "digito_1 = (resultado_digito_1 * 10) % 11\n",
        "digito_1 = digito_1 if digito_1 <= 9 else 0\n",
        "```\n",
        "\n",
        "\n",
        "Formação do CPF com o primeiro dígito verificador:\n",
        "\n",
        "python\n",
        "Copiar código\n",
        "dez_digitos = nove_digitos + str(digito_1)\n",
        "contador_regressivo_2 = 11\n",
        "\n",
        "```\n",
        "dez_digitos: Concatena os nove dígitos originais do CPF com o primeiro dígito verificador convertido em string.\n",
        "Cálculo do segundo dígito verificador:\n",
        "\n",
        "```\n",
        "\n",
        "\n",
        "```\n",
        "python\n",
        "Copiar código\n",
        "resultado_digito_2 = 0\n",
        "for digito in dez_digitos:\n",
        "    resultado_digito_2 += int(digito) * contador_regressivo_2\n",
        "    contador_regressivo_2 -= 1\n",
        "digito_2 = (resultado_digito_2 * 10) % 11\n",
        "digito_2 = digito_2 if digito_2 <= 9 else 0\n",
        "```\n",
        "\n",
        "resultado_digito_2: Inicializa a variável para acumular a soma dos produtos entre cada dígito de dez_digitos e o respectivo peso.\n",
        "Loop for: Itera sobre cada dígito em dez_digitos.\n",
        "contador_regressivo_2 é decrementado a cada iteração.\n",
        "digito_2: Calcula o segundo dígito verificador da mesma maneira que foi calculado o primeiro.\n",
        "Formação do CPF completo com os dígitos verificadores:\n",
        "\n",
        "python\n",
        "Copiar código\n",
        "cpf_gerado_pelo_calculo = f'{nove_digitos}{digito_1}{digito_2}'\n",
        "cpf_gerado_pelo_calculo: Concatena os nove dígitos originais do CPF com os dois dígitos verificadores calculados.\n",
        "Verificação de validade do CPF:\n",
        "\n",
        "python\n",
        "Copiar código\n",
        "if cpf_enviado_usuario == cpf_gerado_pelo_calculo:\n",
        "    print(f'{cpf_enviado_usuario} é válido')\n",
        "else:\n",
        "    print('CPF inválido')\n",
        "Compara o CPF fornecido pelo usuário com o CPF gerado pelo cálculo dos dígitos verificadores.\n",
        "Se forem iguais, imprime que o CPF é válido; caso contrário, imprime que é inválido.\n",
        "Funcionamento do Código:\n",
        "O código calcula os dígitos verificadores do CPF baseado nos nove primeiros dígitos fornecidos pelo usuário.\n",
        "Em seguida, combina esses dígitos com os dígitos verificadores calculados e compara o resultado com o CPF original para determinar se ele é válido"
      ],
      "metadata": {
        "id": "LeWuM3OSTJFm"
      }
    },
    {
      "cell_type": "code",
      "source": [],
      "metadata": {
        "id": "YPtXDShzn6OQ"
      },
      "execution_count": null,
      "outputs": []
    },
    {
      "cell_type": "markdown",
      "source": [
        "# Funçao\n"
      ],
      "metadata": {
        "id": "vq3k_s5en4QC"
      }
    },
    {
      "cell_type": "code",
      "source": [
        "def soma(a, b):\n",
        "    return a + b"
      ],
      "metadata": {
        "id": "KWrTJhnOUcLP"
      },
      "execution_count": null,
      "outputs": []
    },
    {
      "cell_type": "code",
      "source": [
        "soma(4, 4)"
      ],
      "metadata": {
        "colab": {
          "base_uri": "https://localhost:8080/"
        },
        "id": "G3sovmm6oENQ",
        "outputId": "f9c0d2eb-7e34-48a3-83dd-c62be10a5e77"
      },
      "execution_count": null,
      "outputs": [
        {
          "output_type": "execute_result",
          "data": {
            "text/plain": [
              "8"
            ]
          },
          "metadata": {},
          "execution_count": 5
        }
      ]
    },
    {
      "cell_type": "code",
      "source": [
        "def multiplo_de(numero, multiplo):\n",
        "    resultado = numero % multiplo == 0\n",
        "    print(f'{numero} é múltiplo de {multiplo}?', end=' ')\n",
        "    print(resultado)\n"
      ],
      "metadata": {
        "id": "1FJ7NifVpETu"
      },
      "execution_count": null,
      "outputs": []
    },
    {
      "cell_type": "code",
      "source": [
        "multiplo_de(16, 8)\n",
        "multiplo_de(15, 3)\n",
        "multiplo_de(10, 2)"
      ],
      "metadata": {
        "colab": {
          "base_uri": "https://localhost:8080/"
        },
        "id": "VHwVtyC4pGmU",
        "outputId": "b17d1f0b-7333-42d0-f948-8fa41203de73"
      },
      "execution_count": null,
      "outputs": [
        {
          "output_type": "stream",
          "name": "stdout",
          "text": [
            "16 é múltiplo de 8? True\n",
            "15 é múltiplo de 3? True\n",
            "10 é múltiplo de 2? True\n"
          ]
        }
      ]
    },
    {
      "cell_type": "code",
      "source": [
        "\"\"\"\n",
        "Valores padrão para parâmetros\n",
        "Ao definir uma função, os parâmetros podem\n",
        "ter valores padrão. Caso o valor não seja\n",
        "ambiente para o parâmetro, o valor padrão será\n",
        "usado.\n",
        "Refatar: editar o seu côdigo.\n",
        "\"\"\"\n",
        "\n",
        "\n",
        "def soma(x, y, z=None):\n",
        "    if z is not None:\n",
        "        print(f'{x=} {y=} {z=}', x + y + z)\n",
        "    else:\n",
        "        print(f'{x=} {y=}', x + y)\n",
        "\n",
        "\n",
        "soma(1, 2)\n",
        "soma(3, 5)\n",
        "soma(100, 200)\n",
        "soma(7, 9, 0)\n",
        "soma(y=9, z=0, x=7)"
      ],
      "metadata": {
        "colab": {
          "base_uri": "https://localhost:8080/"
        },
        "id": "TZ_vikmIvsFf",
        "outputId": "995d1191-813b-42a3-946c-2a018ae99066"
      },
      "execution_count": null,
      "outputs": [
        {
          "output_type": "stream",
          "name": "stdout",
          "text": [
            "x=1 y=2 3\n",
            "x=3 y=5 8\n",
            "x=100 y=200 300\n",
            "x=7 y=9 z=0 16\n",
            "x=7 y=9 z=0 16\n"
          ]
        }
      ]
    },
    {
      "cell_type": "code",
      "source": [
        "def mult(*args):\n",
        "    args * args\n",
        "    print(args)"
      ],
      "metadata": {
        "id": "ERH66emdwlZq"
      },
      "execution_count": null,
      "outputs": []
    },
    {
      "cell_type": "code",
      "source": [
        "# prompt: função para multiplicar argumentos não nomeados\n",
        "\n",
        "def mult(*args):\n",
        "  result = 1\n",
        "  for arg in args:\n",
        "    result *= arg\n",
        "  return result\n"
      ],
      "metadata": {
        "id": "dp84wWPKxJWK"
      },
      "execution_count": null,
      "outputs": []
    },
    {
      "cell_type": "code",
      "source": [
        "mult(1, 2, 3, 4, 5)"
      ],
      "metadata": {
        "colab": {
          "base_uri": "https://localhost:8080/"
        },
        "id": "vSf1pCrlw_u5",
        "outputId": "d9cc0ab5-d52e-4408-8d7a-1c074cc7c6d7"
      },
      "execution_count": null,
      "outputs": [
        {
          "output_type": "execute_result",
          "data": {
            "text/plain": [
              "120"
            ]
          },
          "metadata": {},
          "execution_count": 11
        }
      ]
    },
    {
      "cell_type": "code",
      "source": [
        "def parimpar(numero):\n",
        "    if numero % 2 == 0:\n",
        "        return f'{numero} par'\n",
        "\n",
        "    return f'{numero} impar'"
      ],
      "metadata": {
        "id": "abTWJdiYyr8A"
      },
      "execution_count": null,
      "outputs": []
    },
    {
      "cell_type": "code",
      "source": [
        "parimpar(2)"
      ],
      "metadata": {
        "colab": {
          "base_uri": "https://localhost:8080/",
          "height": 35
        },
        "id": "p_Ba35usy4lW",
        "outputId": "1d6d788a-ae7c-4d75-8171-2bb368700e5c"
      },
      "execution_count": null,
      "outputs": [
        {
          "output_type": "execute_result",
          "data": {
            "text/plain": [
              "'2 par'"
            ],
            "application/vnd.google.colaboratory.intrinsic+json": {
              "type": "string"
            }
          },
          "metadata": {},
          "execution_count": 17
        }
      ]
    },
    {
      "cell_type": "markdown",
      "source": [
        "Exemplos de Higher-Order Functions em Python\n",
        "1. Funções que Aceitam Outras Funções como Argumentos\n",
        "Um exemplo clássico é a função map, que aplica uma função a cada item de um iterável (como uma lista) e retorna um iterador com os resultados."
      ],
      "metadata": {
        "id": "O-Q4M_ax25Dt"
      }
    },
    {
      "cell_type": "code",
      "source": [
        "def square(x):\n",
        "    return x * x\n",
        "\n",
        "numbers = [1, 2, 3, 4, 5]\n",
        "squared_numbers = map(square, numbers)\n",
        "print(list(squared_numbers))  # Saída: [1, 4, 9, 16, 25]\n"
      ],
      "metadata": {
        "id": "0jVfqnyz29Oz"
      },
      "execution_count": null,
      "outputs": []
    },
    {
      "cell_type": "markdown",
      "source": [],
      "metadata": {
        "id": "_TS5npg22_fQ"
      }
    },
    {
      "cell_type": "markdown",
      "source": [
        "Neste exemplo, map é uma higher-order function porque aceita a função square como argumento.\n",
        "\n",
        "2. Funções que Retornam Outras Funções\n",
        "Outro exemplo é criar uma função que retorna outra função."
      ],
      "metadata": {
        "id": "2QSVXIm53Bn4"
      }
    },
    {
      "cell_type": "code",
      "source": [
        "def make_multiplier(n):\n",
        "    def multiplier(x):\n",
        "        return x * n\n",
        "    return multiplier\n",
        "\n",
        "times3 = make_multiplier(3)\n",
        "print(times3(10))  # Saída: 30\n",
        "\n",
        "times5 = make_multiplier(5)\n",
        "print(times5(10))  # Saída: 50\n"
      ],
      "metadata": {
        "id": "U6YWtXI23DYw"
      },
      "execution_count": null,
      "outputs": []
    },
    {
      "cell_type": "markdown",
      "source": [],
      "metadata": {
        "id": "3hBCHF1H3FhS"
      }
    },
    {
      "cell_type": "markdown",
      "source": [
        "Aqui, make_multiplier é uma higher-order function porque retorna a função multiplier.\n",
        "\n",
        "3. Funções Lambda\n",
        "Funções lambda são frequentemente usadas como argumentos para higher-order functions devido à sua sintaxe concisa."
      ],
      "metadata": {
        "id": "BfHGEjmv3G4X"
      }
    },
    {
      "cell_type": "code",
      "source": [
        "numbers = [1, 2, 3, 4, 5]\n",
        "doubled_numbers = map(lambda x: x * 2, numbers)\n",
        "print(list(doubled_numbers))  # Saída: [2, 4, 6, 8, 10]\n"
      ],
      "metadata": {
        "id": "-v4fkQbs3Id6"
      },
      "execution_count": null,
      "outputs": []
    },
    {
      "cell_type": "markdown",
      "source": [
        "Exemplos Comuns de Higher-Order Functions\n",
        "map(function, iterable): Aplica function a todos os itens em iterable.\n",
        "filter(function, iterable): Filtra iterable, mantendo apenas os itens onde function(item) é True.\n",
        "reduce(function, iterable): Aplica cumulativamente function aos itens de iterable, de modo que reduce(f, [a, b, c, d]) computa f(f(f(a, b), c), d).\n",
        "Exemplo com filter e reduce"
      ],
      "metadata": {
        "id": "WjE7IFyu3NLS"
      }
    },
    {
      "cell_type": "code",
      "source": [
        "from functools import reduce\n",
        "\n",
        "# Filtrando números pares\n",
        "even_numbers = filter(lambda x: x % 2 == 0, numbers)\n",
        "print(list(even_numbers))  # Saída: [2, 4]\n",
        "\n",
        "# Somando todos os números\n",
        "sum_numbers = reduce(lambda x, y: x + y, numbers)\n",
        "print(sum_numbers)  # Saída: 15\n"
      ],
      "metadata": {
        "id": "IadD_NPu3Pef"
      },
      "execution_count": null,
      "outputs": []
    },
    {
      "cell_type": "markdown",
      "source": [
        "Conclusão\n",
        "Higher-order functions são ferramentas poderosas que permitem escrever código mais abstrato e modular. Elas são uma peça-chave no estilo de programação funcional, promovendo reusabilidade e composição de funções."
      ],
      "metadata": {
        "id": "7za0Vd4T3R5A"
      }
    },
    {
      "cell_type": "markdown",
      "source": [
        "# First-class functions são um conceito fundamental em muitas linguagens de programação, incluindo Python. Elas tratam funções como cidadãos de primeira classe, o que significa que as funções podem ser tratadas como qualquer outro tipo de dado. Isso inclui:\n",
        "\n",
        "Atribuição a Variáveis: Funções podem ser atribuídas a variáveis.\n",
        "Passagem como Argumentos: Funções podem ser passadas como argumentos para outras funções.\n",
        "Retorno de Funções: Funções podem retornar outras funções.\n",
        "Armazenamento em Estruturas de Dados: Funções podem ser armazenadas em estruturas de dados, como listas, dicionários, etc.\n",
        "Exemplos de Uso\n",
        "Atribuição a Variáveis"
      ],
      "metadata": {
        "id": "6Qn1S33V4Ty-"
      }
    },
    {
      "cell_type": "code",
      "source": [
        "def greet(name):\n",
        "    return f\"Hello, {name}!\"\n",
        "\n",
        "greeting = greet  # Atribuindo a função a uma variável\n",
        "print(greeting(\"Alice\"))  # Saída: Hello, Alice!\n"
      ],
      "metadata": {
        "id": "fFhIIZ3s4XLo"
      },
      "execution_count": null,
      "outputs": []
    },
    {
      "cell_type": "markdown",
      "source": [
        "Passagem como Argumentos"
      ],
      "metadata": {
        "id": "CTTG4Oe45O4i"
      }
    },
    {
      "cell_type": "code",
      "source": [
        "def call_function(func, value):\n",
        "    return func(value)\n",
        "\n",
        "print(call_function(greet, \"Bob\"))  # Saída: Hello, Bob!\n"
      ],
      "metadata": {
        "id": "1chtCkPn4Z2y"
      },
      "execution_count": null,
      "outputs": []
    },
    {
      "cell_type": "markdown",
      "source": [
        "Retorno de Funções"
      ],
      "metadata": {
        "id": "bp9CKZrq5R3H"
      }
    },
    {
      "cell_type": "code",
      "source": [
        "def create_adder(x):\n",
        "    def adder(y):\n",
        "        return x + y\n",
        "    return adder\n",
        "\n",
        "add_10 = create_adder(10)\n",
        "print(add_10(5))  # Saída: 15\n"
      ],
      "metadata": {
        "colab": {
          "base_uri": "https://localhost:8080/"
        },
        "id": "A3mgDqPG4azI",
        "outputId": "52ea2122-d211-4039-cfdb-c6ea228d82aa"
      },
      "execution_count": null,
      "outputs": [
        {
          "output_type": "stream",
          "name": "stdout",
          "text": [
            "15\n"
          ]
        }
      ]
    },
    {
      "cell_type": "markdown",
      "source": [
        "Armazenamento em Estruturas de Dados"
      ],
      "metadata": {
        "id": "TMHKJN4C5TWh"
      }
    },
    {
      "cell_type": "code",
      "source": [
        "def add(x, y):\n",
        "    return x + y\n",
        "\n",
        "def subtract(x, y):\n",
        "    return x - y\n",
        "\n",
        "operations = {\n",
        "    \"add\": add,\n",
        "    \"subtract\": subtract\n",
        "}\n",
        "\n",
        "print(operations[\"add\"](5, 3))       # Saída: 8\n",
        "print(operations[\"subtract\"](5, 3))  # Saída: 2\n"
      ],
      "metadata": {
        "id": "u7gVWWDf4dJK"
      },
      "execution_count": null,
      "outputs": []
    },
    {
      "cell_type": "markdown",
      "source": [
        "Benefícios das Funções de Primeira Classe\n",
        "Modularidade: Permitem dividir o código em partes menores e reutilizáveis.\n",
        "Abstração: Facilitam a criação de funções mais abstratas que podem operar em outras funções.\n",
        "Composição: Permitem a composição de funções, onde funções menores são combinadas para criar funções mais complexas.\n",
        "Exemplos Práticos\n",
        "Funções de Ordem Superior\n",
        "Funções de primeira classe são essenciais para criar funções de ordem superior."
      ],
      "metadata": {
        "id": "W0l6XroX4eUd"
      }
    },
    {
      "cell_type": "code",
      "source": [
        "def apply_twice(func, value):\n",
        "    return func(func(value))\n",
        "\n",
        "def increment(x):\n",
        "    return x + 1\n",
        "\n",
        "print(apply_twice(increment, 3))  # Saída: 5 (3 + 1 + 1)\n"
      ],
      "metadata": {
        "colab": {
          "base_uri": "https://localhost:8080/"
        },
        "id": "Xe5c3B-w4g_W",
        "outputId": "9bd8d1cc-d8a7-4e0d-9a13-aa3c30d95fab"
      },
      "execution_count": null,
      "outputs": [
        {
          "output_type": "stream",
          "name": "stdout",
          "text": [
            "5\n"
          ]
        }
      ]
    },
    {
      "cell_type": "markdown",
      "source": [
        "Map, Filter e Reduce\n",
        "Estas são funções de ordem superior que operam em funções de primeira classe."
      ],
      "metadata": {
        "id": "1dTdHOnF4jvs"
      }
    },
    {
      "cell_type": "code",
      "source": [
        "numbers = [1, 2, 3, 4, 5]\n",
        "\n",
        "# Usando map para dobrar os números\n",
        "doubled = map(lambda x: x * 2, numbers)\n",
        "print(list(doubled))  # Saída: [2, 4, 6, 8, 10]\n",
        "\n",
        "# Usando filter para obter números pares\n",
        "evens = filter(lambda x: x % 2 == 0, numbers)\n",
        "print(list(evens))  # Saída: [2, 4]\n",
        "\n",
        "# Usando reduce para somar todos os números\n",
        "from functools import reduce\n",
        "sum_numbers = reduce(lambda x, y: x + y, numbers)\n",
        "print(sum_numbers)  # Saída: 15\n"
      ],
      "metadata": {
        "id": "kslgyT1X4pqb"
      },
      "execution_count": null,
      "outputs": []
    },
    {
      "cell_type": "markdown",
      "source": [
        "Conclusão\n",
        "Funções de primeira classe são um conceito poderoso que permite escrever código mais flexível, modular e abstrato. Elas são uma parte essencial da programação funcional e são amplamente utilizadas para criar código reutilizável e fácil de manter"
      ],
      "metadata": {
        "id": "OINn_HwW4tud"
      }
    },
    {
      "cell_type": "markdown",
      "source": [
        "### Closures são uma característica poderosa em linguagens de programação como Python. Um closure ocorre quando uma função \"lembra\" do ambiente em que foi criada, mesmo depois que esse ambiente não existe mais. Isso é possível porque a função interna mantém uma referência às variáveis do escopo onde foi definida.\n",
        "\n",
        "Definição e Exemplo\n",
        "Para entender closures, considere o seguinte exemplo:"
      ],
      "metadata": {
        "id": "EtQg9f6rB8L9"
      }
    },
    {
      "cell_type": "code",
      "source": [
        "def outer_function(x):\n",
        "    def inner_function(y):\n",
        "        return x + y\n",
        "    return inner_function\n"
      ],
      "metadata": {
        "id": "cTRHG1V8CCCs"
      },
      "execution_count": null,
      "outputs": []
    },
    {
      "cell_type": "markdown",
      "source": [
        "Aqui, inner_function é definida dentro de outer_function e referencia a variável x, que é definida no escopo de outer_function. Quando outer_function é chamada, ela retorna inner_function, que ainda \"lembra\" de x.\n",
        "\n",
        "Como Funciona\n",
        "Vamos ver isso em ação:"
      ],
      "metadata": {
        "id": "aVvBIrpuCEuG"
      }
    },
    {
      "cell_type": "code",
      "source": [
        "add_five = outer_function(5)\n",
        "print(add_five(10))  # Saída: 15\n"
      ],
      "metadata": {
        "id": "-Lzfd5VpCF8L"
      },
      "execution_count": null,
      "outputs": []
    },
    {
      "cell_type": "markdown",
      "source": [
        "Quando outer_function(5) é chamada, ela retorna inner_function, que \"lembra\" que x é 5. Quando add_five(10) é chamada, ela adiciona 10 a 5, resultando em 15.\n",
        "\n",
        "Benefícios das Closures\n",
        "Encapsulamento: Permite encapsular dados privados.\n",
        "Fábrica de Funções: Útil para criar funções personalizadas.\n",
        "Manter Estado: Pode manter o estado entre chamadas de função.\n",
        "Exemplos Práticos\n",
        "Contador\n",
        "Um uso comum de closures é criar contadores."
      ],
      "metadata": {
        "id": "tjPECVjgCKgq"
      }
    },
    {
      "cell_type": "code",
      "source": [
        "def make_counter():\n",
        "    count = 0\n",
        "    def counter():\n",
        "        nonlocal count\n",
        "        count += 1\n",
        "        return count\n",
        "    return counter\n",
        "\n",
        "counter = make_counter()\n",
        "print(counter())  # Saída: 1\n",
        "print(counter())  # Saída: 2\n",
        "print(counter())  # Saída: 3\n"
      ],
      "metadata": {
        "colab": {
          "base_uri": "https://localhost:8080/"
        },
        "id": "IdGOgO0kCMMP",
        "outputId": "a9a23776-99ca-4c0d-c37c-d829ad19b1d6"
      },
      "execution_count": null,
      "outputs": [
        {
          "output_type": "stream",
          "name": "stdout",
          "text": [
            "1\n",
            "2\n",
            "3\n"
          ]
        }
      ]
    },
    {
      "cell_type": "markdown",
      "source": [
        "Neste exemplo, a função counter mantém o estado da variável count entre chamadas, mesmo após make_counter ter terminado sua execução.\n",
        "\n",
        "Filtro Personalizado\n",
        "Outro exemplo é criar um filtro personalizado usando closures."
      ],
      "metadata": {
        "id": "q-j0sn7tCPCd"
      }
    },
    {
      "cell_type": "code",
      "source": [
        "def make_filter(threshold):\n",
        "    def custom_filter(value):\n",
        "        return value > threshold\n",
        "    return custom_filter\n",
        "\n",
        "greater_than_10 = make_filter(10)\n",
        "print(greater_than_10(5))   # Saída: False\n",
        "print(greater_than_10(15))  # Saída: True\n"
      ],
      "metadata": {
        "id": "lnG7AeOXCRAu"
      },
      "execution_count": null,
      "outputs": []
    },
    {
      "cell_type": "markdown",
      "source": [
        "Aqui, custom_filter \"lembra\" do valor de threshold passado para make_filter.\n",
        "\n",
        "Importante\n",
        "nonlocal: Se você precisar modificar uma variável no escopo externo da função, use a palavra-chave nonlocal."
      ],
      "metadata": {
        "id": "saexlKiNCSWB"
      }
    },
    {
      "cell_type": "code",
      "source": [
        "def outer():\n",
        "    x = 5\n",
        "    def inner():\n",
        "        nonlocal x\n",
        "        x = 10\n",
        "        return x\n",
        "    return inner()\n",
        "\n",
        "print(outer())  # Saída: 10\n"
      ],
      "metadata": {
        "id": "pkf5LphVCVZ3"
      },
      "execution_count": null,
      "outputs": []
    },
    {
      "cell_type": "markdown",
      "source": [
        "Conclusão\n",
        "Closures são uma maneira poderosa de criar funções que encapsulam e lembram do estado de variáveis no escopo onde foram criadas. Elas são úteis para criar funções personalizadas, manter estado entre chamadas e encapsular dados privados. Understanding and using closures can significantly improve your coding flexibility and power."
      ],
      "metadata": {
        "id": "g_IJjm7ZCX3H"
      }
    },
    {
      "cell_type": "code",
      "source": [
        "\"\"\"\n",
        "Closure e funções que retornam outras funções\n",
        "\"\"\"\n",
        "\n",
        "\n",
        "def criar_saudacao(saudacao):\n",
        "    def saudar(nome):\n",
        "        return f'{saudacao}, {nome}!'\n",
        "    return saudar\n",
        "\n",
        "\n",
        "falar_bom_dia = criar_saudacao('Bom dia')\n",
        "falar_boa_noite = criar_saudacao('Boa noite')\n",
        "\n",
        "for nome in ['Maria', 'Joana', 'Luiz']:\n",
        "    print(falar_bom_dia(nome))\n",
        "    print(falar_boa_noite(nome))"
      ],
      "metadata": {
        "id": "SwviFmj3FSJJ"
      },
      "execution_count": null,
      "outputs": []
    },
    {
      "cell_type": "markdown",
      "source": [
        "exercicio"
      ],
      "metadata": {
        "id": "1qIY_IzgFvu0"
      }
    },
    {
      "cell_type": "code",
      "source": [
        "def duplicar(x):\n",
        "    return x * 2\n",
        "\n",
        "def triplicar(y):\n",
        "    return y * 3"
      ],
      "metadata": {
        "id": "Ssj2Fy08FBTu"
      },
      "execution_count": null,
      "outputs": []
    },
    {
      "cell_type": "code",
      "source": [
        "def mat(func, valor):\n",
        "    def duplicar(x):\n",
        "        return x * 2\n",
        "\n",
        "    def triplicar(y):\n",
        "        return y * 3\n",
        "\n",
        "    if func == 'duplicar':\n",
        "        return duplicar(valor)\n",
        "    elif func == 'triplicar':\n",
        "        return triplicar(valor)\n",
        "    else:\n",
        "        return \"Função desconhecida\"\n",
        "\n",
        "# Exemplos de uso\n",
        "print(mat('duplicar', 5))  # Saída: 10\n",
        "print(mat('triplicar', 5))  # Saída: 15\n",
        "print(mat('outra_funcao', 5))  # Saída: Função desconhecida\n"
      ],
      "metadata": {
        "id": "yE5ERB97GYCO"
      },
      "execution_count": null,
      "outputs": []
    },
    {
      "cell_type": "code",
      "source": [
        "# Exercícios\n",
        "# Crie funções que duplicam, triplicam e quadruplicam\n",
        "# o número recebido como parâmetro.\n",
        "# def duplicar(numero):\n",
        "#     return numero * 2\n",
        "\n",
        "\n",
        "# def triplicar(numero):\n",
        "#     return numero * 3\n",
        "\n",
        "\n",
        "# def quadruplicar(numero):\n",
        "#     return numero * 4\n",
        "def criar_multiplicador(multiplicador):\n",
        "    def multiplicar(numero):\n",
        "        return numero * multiplicador\n",
        "    return multiplicar\n",
        "\n",
        "\n",
        "duplicar = criar_multiplicador(2)\n",
        "triplicar = criar_multiplicador(3)\n",
        "quadruplicar = criar_multiplicador(4)\n",
        "\n",
        "print(duplicar(2))\n",
        "print(triplicar(2))\n",
        "print(quadruplicar(2))\n"
      ],
      "metadata": {
        "id": "TPhcoA8STD7s"
      },
      "execution_count": null,
      "outputs": []
    },
    {
      "cell_type": "markdown",
      "source": [
        "## Dicionários em Python são coleções de pares chave-valor. Eles são mutáveis, o que significa que podem ser alterados após sua criação, e permitem acesso rápido aos valores através das chaves.\n",
        "\n",
        "Criação de Dicionários\n",
        "Você pode criar dicionários de várias maneiras:"
      ],
      "metadata": {
        "id": "1-V2PNYqUbWx"
      }
    },
    {
      "cell_type": "code",
      "source": [
        "# Criando um dicionário vazio\n",
        "meu_dicionario = {}\n",
        "\n",
        "# Criando um dicionário com alguns pares chave-valor\n",
        "meu_dicionario = {\n",
        "    \"nome\": \"Alice\",\n",
        "    \"idade\": 25,\n",
        "    \"cidade\": \"São Paulo\"\n",
        "}\n",
        "\n",
        "# Usando o construtor dict()\n",
        "meu_dicionario = dict(nome=\"Alice\", idade=25, cidade=\"São Paulo\")\n"
      ],
      "metadata": {
        "id": "UtKbxqhQUgUn"
      },
      "execution_count": null,
      "outputs": []
    },
    {
      "cell_type": "markdown",
      "source": [
        "Acessando Valores\n",
        "Você pode acessar valores em um dicionário usando as chaves:"
      ],
      "metadata": {
        "id": "_1CWyJFsUkQb"
      }
    },
    {
      "cell_type": "code",
      "source": [
        "print(meu_dicionario[\"nome\"])  # Saída: Alice\n",
        "print(meu_dicionario[\"idade\"]) # Saída: 25\n"
      ],
      "metadata": {
        "colab": {
          "base_uri": "https://localhost:8080/"
        },
        "id": "0KuRCaOCUlsM",
        "outputId": "95381125-26d0-4fad-becf-8242df7be871"
      },
      "execution_count": null,
      "outputs": [
        {
          "output_type": "stream",
          "name": "stdout",
          "text": [
            "Alice\n",
            "25\n"
          ]
        }
      ]
    },
    {
      "cell_type": "markdown",
      "source": [
        "Adicionando e Atualizando Valores\n",
        "Você pode adicionar novos pares chave-valor ou atualizar valores existentes:"
      ],
      "metadata": {
        "id": "vO6muIg5Uno0"
      }
    },
    {
      "cell_type": "code",
      "source": [
        "meu_dicionario[\"email\"] = \"alice@example.com\"  # Adicionando um novo par\n",
        "meu_dicionario[\"idade\"] = 26  # Atualizando um valor existente\n"
      ],
      "metadata": {
        "id": "0Gpn8on8UpNV"
      },
      "execution_count": null,
      "outputs": []
    },
    {
      "cell_type": "markdown",
      "source": [
        "Removendo Itens\n",
        "Você pode remover itens de um dicionário usando del ou o método pop():"
      ],
      "metadata": {
        "id": "J9OBxUmSUuTL"
      }
    },
    {
      "cell_type": "code",
      "source": [
        "del meu_dicionario[\"cidade\"]  # Remove o par com a chave \"cidade\"\n",
        "idade = meu_dicionario.pop(\"idade\")  # Remove e retorna o valor associado à chave \"idade\"\n"
      ],
      "metadata": {
        "id": "WOeWClskUvz6"
      },
      "execution_count": null,
      "outputs": []
    },
    {
      "cell_type": "markdown",
      "source": [
        "Métodos Úteis\n",
        "Aqui estão alguns métodos úteis para trabalhar com dicionários:\n",
        "\n",
        "keys(): Retorna uma visualização das chaves do dicionário.\n",
        "values(): Retorna uma visualização dos valores do dicionário.\n",
        "items(): Retorna uma visualização dos pares chave-valor do dicionário.\n",
        "get(): Retorna o valor para a chave especificada, ou um valor padrão se a chave não estiver presente."
      ],
      "metadata": {
        "id": "PlkwIP53Uzuz"
      }
    },
    {
      "cell_type": "code",
      "source": [
        "print(meu_dicionario.keys())   # Saída: dict_keys(['nome', 'email'])\n",
        "print(meu_dicionario.values()) # Saída: dict_values(['Alice', 'alice@example.com'])\n",
        "print(meu_dicionario.items())  # Saída: dict_items([('nome', 'Alice'), ('email', 'alice@example.com')])\n",
        "\n",
        "# Usando get() para evitar erros se a chave não existir\n",
        "print(meu_dicionario.get(\"cidade\", \"Chave não encontrada\"))  # Saída: Chave não encontrada\n"
      ],
      "metadata": {
        "colab": {
          "base_uri": "https://localhost:8080/"
        },
        "id": "FvFa6ojvU08E",
        "outputId": "ae46b395-9a47-4060-dec9-6e15dca51b81"
      },
      "execution_count": null,
      "outputs": [
        {
          "output_type": "stream",
          "name": "stdout",
          "text": [
            "dict_keys(['nome', 'email'])\n",
            "dict_values(['Alice', 'alice@example.com'])\n",
            "dict_items([('nome', 'Alice'), ('email', 'alice@example.com')])\n",
            "Chave não encontrada\n"
          ]
        }
      ]
    },
    {
      "cell_type": "markdown",
      "source": [
        "Iterando Sobre um Dicionário\n",
        "Você pode iterar sobre chaves, valores ou pares chave-valor:"
      ],
      "metadata": {
        "id": "sm4WJxL-U34w"
      }
    },
    {
      "cell_type": "code",
      "source": [
        "# Iterando sobre chaves\n",
        "for chave in meu_dicionario:\n",
        "    print(chave, meu_dicionario[chave])\n",
        "\n",
        "# Iterando sobre valores\n",
        "for valor in meu_dicionario.values():\n",
        "    print(valor)\n",
        "\n",
        "# Iterando sobre pares chave-valor\n",
        "for chave, valor in meu_dicionario.items():\n",
        "    print(chave, valor)\n"
      ],
      "metadata": {
        "colab": {
          "base_uri": "https://localhost:8080/"
        },
        "id": "s0TeStRwVCEO",
        "outputId": "f719b8e5-5e61-4e8b-a779-aa1689166c93"
      },
      "execution_count": null,
      "outputs": [
        {
          "output_type": "stream",
          "name": "stdout",
          "text": [
            "nome Alice\n",
            "email alice@example.com\n",
            "Alice\n",
            "alice@example.com\n",
            "nome Alice\n",
            "email alice@example.com\n"
          ]
        }
      ]
    },
    {
      "cell_type": "markdown",
      "source": [
        "Exemplos Práticos\n",
        "Contando Ocorrências"
      ],
      "metadata": {
        "id": "a9VOdgNGVFCS"
      }
    },
    {
      "cell_type": "code",
      "source": [
        "frase = \"o rato roeu a roupa do rei de roma\"\n",
        "ocorrencias = {}\n",
        "\n",
        "for letra in frase:\n",
        "    if letra in ocorrencias:\n",
        "        ocorrencias[letra] += 1\n",
        "    else:\n",
        "        ocorrencias[letra] = 1\n",
        "\n",
        "print(ocorrencias)\n"
      ],
      "metadata": {
        "colab": {
          "base_uri": "https://localhost:8080/"
        },
        "id": "BndFknYsVGfP",
        "outputId": "38c59662-6bf9-4f27-f69b-9f6e6eb46879"
      },
      "execution_count": null,
      "outputs": [
        {
          "output_type": "stream",
          "name": "stdout",
          "text": [
            "{'o': 6, ' ': 8, 'r': 5, 'a': 4, 't': 1, 'e': 3, 'u': 2, 'p': 1, 'd': 2, 'i': 1, 'm': 1}\n"
          ]
        }
      ]
    },
    {
      "cell_type": "markdown",
      "source": [
        "Agrupando Dados"
      ],
      "metadata": {
        "id": "2JrcEptCVHWb"
      }
    },
    {
      "cell_type": "code",
      "source": [
        "pessoas = [\n",
        "    {\"nome\": \"Alice\", \"idade\": 30, \"cidade\": \"São Paulo\"},\n",
        "    {\"nome\": \"Bob\", \"idade\": 25, \"cidade\": \"Rio de Janeiro\"},\n",
        "    {\"nome\": \"Charlie\", \"idade\": 35, \"cidade\": \"São Paulo\"},\n",
        "]\n",
        "\n",
        "agrupados_por_cidade = {}\n",
        "\n",
        "for pessoa in pessoas:\n",
        "    cidade = pessoa[\"cidade\"]\n",
        "    if cidade not in agrupados_por_cidade:\n",
        "        agrupados_por_cidade[cidade] = []\n",
        "    agrupados_por_cidade[cidade].append(pessoa)\n",
        "\n",
        "print(agrupados_por_cidade)"
      ],
      "metadata": {
        "colab": {
          "base_uri": "https://localhost:8080/"
        },
        "id": "5r9fFzRfVJsD",
        "outputId": "e05352b3-8ce1-45ea-de18-dc79406ee1cf"
      },
      "execution_count": null,
      "outputs": [
        {
          "output_type": "stream",
          "name": "stdout",
          "text": [
            "{'São Paulo': [{'nome': 'Alice', 'idade': 30, 'cidade': 'São Paulo'}, {'nome': 'Charlie', 'idade': 35, 'cidade': 'São Paulo'}], 'Rio de Janeiro': [{'nome': 'Bob', 'idade': 25, 'cidade': 'Rio de Janeiro'}]}\n"
          ]
        }
      ]
    },
    {
      "cell_type": "code",
      "source": [],
      "metadata": {
        "id": "3krXfpvwj3S7"
      },
      "execution_count": null,
      "outputs": []
    },
    {
      "cell_type": "code",
      "source": [
        "# Métodos úteis dos dicionários em Python\n",
        "# len - quantas chaves\n",
        "# keys - iterável com as chaves\n",
        "# values - iterável com os valores\n",
        "# items - iterável com chaves e valores\n",
        "# setdefault - adiciona valor se a chave não existe\n",
        "# copy - retorna uma cópia rasa (shallow copy)\n",
        "# get - obtém uma chave\n",
        "# pop - Apaga um item com a chave especificada (del)\n",
        "# popitem - Apaga o último item adicionado\n",
        "# update - Atualiza um dicionário com outro\n",
        "pessoa = {\n",
        "    'nome': 'Luiz Otávio',\n",
        "    'sobrenome': 'Miranda',\n",
        "    'idade': 900,\n",
        "}\n",
        "\n",
        "pessoa.setdefault('idade', 0)\n",
        "print(pessoa['idade'])\n",
        "# print(len(pessoa))\n",
        "# print(list(pessoa.keys()))\n",
        "# print(list(pessoa.values()))\n",
        "# print(list(pessoa.items()))\n",
        "\n",
        "# for valor in pessoa.values():\n",
        "#     print(valor)\n",
        "\n",
        "# for chave, valor in pessoa.items():\n",
        "#     print(chave, valor)"
      ],
      "metadata": {
        "id": "NbVOdaKlf8cP",
        "colab": {
          "base_uri": "https://localhost:8080/"
        },
        "outputId": "385267f1-2f33-460f-c6d1-59fa15d17016"
      },
      "execution_count": null,
      "outputs": [
        {
          "output_type": "stream",
          "name": "stdout",
          "text": [
            "900\n"
          ]
        }
      ]
    },
    {
      "cell_type": "code",
      "source": [
        "print={\n",
        "    print(pessoa[\"idade\"])\n",
        "}"
      ],
      "metadata": {
        "id": "ASOtvAnZkHT_",
        "colab": {
          "base_uri": "https://localhost:8080/"
        },
        "outputId": "a57f3400-4f06-4b1b-cc78-dc19ed1c0076"
      },
      "execution_count": null,
      "outputs": [
        {
          "output_type": "stream",
          "name": "stdout",
          "text": [
            "900\n"
          ]
        }
      ]
    },
    {
      "cell_type": "markdown",
      "source": [
        "### A diferença entre shallow copy e deep copy refere-se à forma como as cópias de objetos são feitas em linguagens de programação, especialmente em relação às estruturas de dados complexas como listas, dicionários e objetos personalizados. Aqui está uma explicação detalhada:\n",
        "\n",
        "Shallow Copy (Cópia Rasa)\n",
        "Definição: Uma shallow copy cria uma nova coleção, mas os elementos individuais da coleção original não são duplicados; em vez disso, referências para esses objetos são copiadas.\n",
        "Implicação: Alterações em objetos mutáveis (como listas, dicionários, etc.) dentro da coleção copiada afetarão a coleção original, já que ambos compartilham os mesmos objetos."
      ],
      "metadata": {
        "id": "qIvcEMYS7G7h"
      }
    },
    {
      "cell_type": "code",
      "source": [
        "import copy\n",
        "\n",
        "original_list = [[1, 2, 3], [4, 5, 6]]\n",
        "shallow_copied_list = copy.copy(original_list)\n",
        "\n",
        "# Modificando o primeiro elemento da primeira sub-lista\n",
        "shallow_copied_list[0][0] = 'A'\n",
        "\n",
        "print(\"Original List:\", original_list)\n",
        "print(\"Shallow Copied List:\", shallow_copied_list)\n"
      ],
      "metadata": {
        "id": "uDTqoAMI7Ou7"
      },
      "execution_count": null,
      "outputs": []
    },
    {
      "cell_type": "markdown",
      "source": [
        "Deep Copy (Cópia Profunda)\n",
        "Definição: Uma deep copy cria uma nova coleção e, recursivamente, cria cópias dos objetos contidos na coleção original.\n",
        "Implicação: Alterações em objetos mutáveis na coleção copiada não afetam a coleção original, pois todos os objetos são duplicados.\n",
        "Exemplo em Python"
      ],
      "metadata": {
        "id": "6RTJ29Zk7SQT"
      }
    },
    {
      "cell_type": "code",
      "source": [
        "import copy\n",
        "\n",
        "original_list = [[1, 2, 3], [4, 5, 6]]\n",
        "deep_copied_list = copy.deepcopy(original_list)\n",
        "\n",
        "# Modificando o primeiro elemento da primeira sub-lista\n",
        "deep_copied_list[0][0] = 'A'\n",
        "\n",
        "print(\"Original List:\", original_list)\n",
        "print(\"Deep Copied List:\", deep_copied_list)\n"
      ],
      "metadata": {
        "id": "TfO05N5w7Ud6"
      },
      "execution_count": null,
      "outputs": []
    },
    {
      "cell_type": "markdown",
      "source": [
        "Resumo das Diferenças\n",
        "Shallow Copy:\n",
        "\n",
        "Cópia superficial.\n",
        "Copia a estrutura, mas não os elementos internos.\n",
        "Elementos mutáveis compartilhados entre cópia e original.\n",
        "Mais rápido e consome menos memória do que deep copy.\n",
        "Deep Copy:\n",
        "\n",
        "Cópia profunda.\n",
        "Copia a estrutura e todos os elementos internos.\n",
        "Elementos mutáveis não são compartilhados entre cópia e original.\n",
        "Mais lento e consome mais memória do que shallow copy.\n",
        "Uso Prático\n",
        "Shallow Copy: Quando a estrutura da coleção é importante, mas você não precisa modificar os elementos mutáveis internos.\n",
        "Deep Copy: Quando você precisa de uma cópia completamente independente da original, sem compartilhar nenhum elemento interno.\n",
        "Exemplo Prático em Python\n",
        "Aqui está um exemplo prático de quando usar cada tipo de cópia:"
      ],
      "metadata": {
        "id": "iDMww-xy7WfJ"
      }
    },
    {
      "cell_type": "code",
      "source": [
        "import copy\n",
        "\n",
        "class MyClass:\n",
        "    def __init__(self, value):\n",
        "        self.value = value\n",
        "\n",
        "# Criação do objeto original\n",
        "original = MyClass([1, 2, 3])\n",
        "\n",
        "# Shallow copy\n",
        "shallow_copied = copy.copy(original)\n",
        "shallow_copied.value[0] = 'A'\n",
        "\n",
        "print(\"Original:\", original.value)\n",
        "print(\"Shallow Copied:\", shallow_copied.value)\n",
        "\n",
        "# Deep copy\n",
        "original = MyClass([1, 2, 3])  # Recriando o original para limpeza\n",
        "deep_copied = copy.deepcopy(original)\n",
        "deep_copied.value[0] = 'B'\n",
        "\n",
        "print(\"Original:\", original.value)\n",
        "print(\"Deep Copied:\", deep_copied.value)\n"
      ],
      "metadata": {
        "id": "1SFUKGMh7iK9"
      },
      "execution_count": null,
      "outputs": []
    },
    {
      "cell_type": "markdown",
      "source": [
        "Neste exemplo, ao usar shallow copy, a modificação afeta o objeto original, enquanto com deep copy, a modificação é independente."
      ],
      "metadata": {
        "id": "YK4ds-zs7mYu"
      }
    },
    {
      "cell_type": "markdown",
      "source": [
        "## EXERCICIO"
      ],
      "metadata": {
        "id": "btIR-SGC-I-P"
      }
    },
    {
      "cell_type": "code",
      "source": [
        "# Exercício - sistema de perguntas e respostas\n",
        "\n",
        "\n",
        "perguntas = [\n",
        "    {\n",
        "        'Pergunta': 'Quanto é 2+2?',\n",
        "        'Opções': ['1', '3', '4', '5'],\n",
        "        'Resposta': '4',\n",
        "    },\n",
        "    {\n",
        "        'Pergunta': 'Quanto é 5*5?',\n",
        "        'Opções': ['25', '55', '10', '51'],\n",
        "        'Resposta': '25',\n",
        "    },\n",
        "    {\n",
        "        'Pergunta': 'Quanto é 10/2?',\n",
        "        'Opções': ['4', '5', '2', '1'],\n",
        "        'Resposta': '5',\n",
        "    },\n",
        "]"
      ],
      "metadata": {
        "id": "LmqtWaRR-HHj"
      },
      "execution_count": null,
      "outputs": []
    },
    {
      "cell_type": "code",
      "source": [
        "for a in perguntas:\n",
        "  print(a['Opções'])"
      ],
      "metadata": {
        "colab": {
          "base_uri": "https://localhost:8080/"
        },
        "id": "GG0U9RN2Km-x",
        "outputId": "6897ace3-905b-49a0-8c51-b63e4295da4c"
      },
      "execution_count": null,
      "outputs": [
        {
          "output_type": "stream",
          "name": "stdout",
          "text": [
            "['1', '3', '4', '5']\n",
            "['25', '55', '10', '51']\n",
            "['4', '5', '2', '1']\n"
          ]
        }
      ]
    },
    {
      "cell_type": "code",
      "source": [
        "def exibir_pergunta(pergunta):\n",
        "    lista=input(\"Digite a opção desejada: \")\n",
        "    pergunta_texto = pergunta['Pergunta']\n",
        "    print(pergunta_texto)\n",
        "    for opcao in pergunta['Opções']:\n",
        "        print(opcao)\n",
        "\n"
      ],
      "metadata": {
        "id": "wb1i2SXZ-Wm2"
      },
      "execution_count": null,
      "outputs": []
    },
    {
      "cell_type": "code",
      "source": [
        "# Lista de perguntas com suas opções e respostas corretas\n",
        "perguntas = [\n",
        "    {\n",
        "        'Pergunta': 'Quanto é 2+2?',\n",
        "        'Opções': ['1', '3', '4', '5'],\n",
        "        'Resposta': '4',\n",
        "    },\n",
        "    {\n",
        "        'Pergunta': 'Quanto é 5*5?',\n",
        "        'Opções': ['25', '55', '10', '51'],\n",
        "        'Resposta': '25',\n",
        "    },\n",
        "    {\n",
        "        'Pergunta': 'Quanto é 10/2?',\n",
        "        'Opções': ['4', '5', '2', '1'],\n",
        "        'Resposta': '5',\n",
        "    },\n",
        "]\n",
        "\n",
        "def sistema_perguntas(perguntas):\n",
        "    acertos = 0  # Variável para contar o número de respostas corretas\n",
        "\n",
        "    # Loop para percorrer cada pergunta na lista\n",
        "    for pergunta in perguntas:\n",
        "        # Exibe a pergunta\n",
        "        print(pergunta['Pergunta'])\n",
        "\n",
        "        # Exibe as opções\n",
        "        print(\"Opções:\")\n",
        "        for i, opcao in enumerate(pergunta['Opções']):\n",
        "            print(f\"{i + 1}. {opcao}\")  # Exibe a opção com o número correspondente\n",
        "\n",
        "        # Solicita ao usuário que escolha a opção correta\n",
        "        resposta = input(\"Escolha a opção correta (1-4): \")\n",
        "\n",
        "        # Verifica se a resposta do usuário está correta\n",
        "        if pergunta['Opções'][int(resposta) - 1] == pergunta['Resposta']:\n",
        "            print(\"Resposta correta!\")\n",
        "            acertos += 1  # Incrementa o contador de acertos\n",
        "        else:\n",
        "            print(\"Resposta errada!\")\n",
        "\n",
        "        print()  # Linha em branco para separar perguntas\n",
        "\n",
        "    # Exibe o total de acertos no final\n",
        "    print(f\"Você acertou {acertos} de {len(perguntas)} perguntas.\")\n",
        "\n",
        "# Executa o sistema de perguntas e respostas\n",
        "sistema_perguntas(perguntas)"
      ],
      "metadata": {
        "id": "jh_7YlnfCLrA"
      },
      "execution_count": null,
      "outputs": []
    },
    {
      "cell_type": "markdown",
      "source": [
        "Um set em Python é uma coleção desordenada de elementos únicos. Isso significa que um set não permite elementos duplicados e a ordem dos elementos não é garantida. Vamos explorar os principais aspectos de set, incluindo criação, modificação e operações comuns.\n",
        "\n",
        "Criação de um set\n",
        "Você pode criar um set de várias maneiras:\n",
        "\n",
        "Usando chaves {}:"
      ],
      "metadata": {
        "id": "9Pv7aSCWWwVa"
      }
    },
    {
      "cell_type": "code",
      "source": [
        "conjunto = {1, 2, 3, 4, 5}\n"
      ],
      "metadata": {
        "id": "aajHbnQRW5fU"
      },
      "execution_count": null,
      "outputs": []
    },
    {
      "cell_type": "markdown",
      "source": [
        "Usando a função set():"
      ],
      "metadata": {
        "id": "P1VndOK5W7Qm"
      }
    },
    {
      "cell_type": "code",
      "source": [
        "conjunto = set([1, 2, 3, 4, 5])\n"
      ],
      "metadata": {
        "id": "sb0NTYoFW83r"
      },
      "execution_count": null,
      "outputs": []
    },
    {
      "cell_type": "markdown",
      "source": [
        "Nota: Usar set() com uma lista ou outra estrutura de dados iterável.\n",
        "Características de um set\n",
        "Elementos únicos:"
      ],
      "metadata": {
        "id": "2_A_KlTgW_hv"
      }
    },
    {
      "cell_type": "code",
      "source": [
        "conjunto = {1, 2, 2, 3, 4}\n",
        "print(conjunto)  # Saída: {1, 2, 3, 4}\n"
      ],
      "metadata": {
        "id": "O79n9D9eXCjJ"
      },
      "execution_count": null,
      "outputs": []
    },
    {
      "cell_type": "markdown",
      "source": [
        "Desordenado:"
      ],
      "metadata": {
        "id": "W8fEkdsoXEeC"
      }
    },
    {
      "cell_type": "code",
      "source": [
        "conjunto = {5, 3, 1, 2, 4}\n",
        "print(conjunto)  # A ordem de saída pode variar\n"
      ],
      "metadata": {
        "id": "aAM69jimXGJy"
      },
      "execution_count": null,
      "outputs": []
    },
    {
      "cell_type": "markdown",
      "source": [
        "Operações com set\n",
        "Adicionar elementos:"
      ],
      "metadata": {
        "id": "pTo6KQQbXbba"
      }
    },
    {
      "cell_type": "code",
      "source": [
        "conjunto = {1, 2, 3}\n",
        "conjunto.add(4)\n",
        "print(conjunto)  # Saída: {1, 2, 3, 4}\n"
      ],
      "metadata": {
        "id": "Fx-ECIX-Xd6f"
      },
      "execution_count": null,
      "outputs": []
    },
    {
      "cell_type": "markdown",
      "source": [
        "Remover elementos:"
      ],
      "metadata": {
        "id": "JuXRiUb-XgzA"
      }
    },
    {
      "cell_type": "code",
      "source": [
        "conjunto = {1, 2, 3}\n",
        "conjunto.remove(2)  # Remove 2; causa erro se 2 não estiver presente\n",
        "conjunto.discard(3) # Remove 3; não causa erro se 3 não estiver presente\n",
        "print(conjunto)     # Saída: {1}\n"
      ],
      "metadata": {
        "id": "PQsaWEl_XiTh"
      },
      "execution_count": null,
      "outputs": []
    },
    {
      "cell_type": "markdown",
      "source": [
        "Verificar a presença de elementos:"
      ],
      "metadata": {
        "id": "bQ7ArUE2XmJ-"
      }
    },
    {
      "cell_type": "code",
      "source": [
        "conjunto = {1, 2, 3}\n",
        "print(2 in conjunto)  # Saída: True\n",
        "print(4 in conjunto)  # Saída: False\n"
      ],
      "metadata": {
        "id": "yuHTmQglXnjk"
      },
      "execution_count": null,
      "outputs": []
    },
    {
      "cell_type": "markdown",
      "source": [
        "Operações de conjuntos:\n",
        "\n",
        "União:"
      ],
      "metadata": {
        "id": "qxgVtqHWXps3"
      }
    },
    {
      "cell_type": "code",
      "source": [
        "conjunto1 = {1, 2, 3}\n",
        "conjunto2 = {3, 4, 5}\n",
        "print(conjunto1 | conjunto2)  # Saída: {1, 2, 3, 4, 5}\n"
      ],
      "metadata": {
        "id": "0FZ6DNHyXrUp"
      },
      "execution_count": null,
      "outputs": []
    },
    {
      "cell_type": "markdown",
      "source": [
        "Interseção:"
      ],
      "metadata": {
        "id": "S7AF3X5AXuKh"
      }
    },
    {
      "cell_type": "code",
      "source": [
        "conjunto1 = {1, 2, 3}\n",
        "conjunto2 = {2, 3, 4}\n",
        "print(conjunto1 & conjunto2)  # Saída: {2, 3}\n"
      ],
      "metadata": {
        "id": "mK4lxp1NXw7l"
      },
      "execution_count": null,
      "outputs": []
    },
    {
      "cell_type": "markdown",
      "source": [
        "Diferença:"
      ],
      "metadata": {
        "id": "psJ8oCy2Xy9X"
      }
    },
    {
      "cell_type": "code",
      "source": [
        "conjunto1 = {1, 2, 3}\n",
        "conjunto2 = {2, 3, 4}\n",
        "print(conjunto1 - conjunto2)  # Saída: {1}\n"
      ],
      "metadata": {
        "id": "nBTTSOQaX0mb"
      },
      "execution_count": null,
      "outputs": []
    },
    {
      "cell_type": "markdown",
      "source": [
        "Diferença simétrica (elementos presentes em um conjunto ou no outro, mas não em ambos):"
      ],
      "metadata": {
        "id": "QCub20TFX4UH"
      }
    },
    {
      "cell_type": "code",
      "source": [
        "conjunto1 = {1, 2, 3}\n",
        "conjunto2 = {2, 3, 4}\n",
        "print(conjunto1 ^ conjunto2)  # Saída: {1, 4}\n"
      ],
      "metadata": {
        "id": "UYpQQGtkX6Er"
      },
      "execution_count": null,
      "outputs": []
    },
    {
      "cell_type": "markdown",
      "source": [
        "Métodos comuns\n",
        "add(element): Adiciona um elemento ao set.\n",
        "remove(element): Remove um elemento do set, causa erro se o elemento não existir.\n",
        "discard(element): Remove um elemento do set, não causa erro se o elemento não existir.\n",
        "clear(): Remove todos os elementos do set.\n",
        "copy(): Retorna uma cópia do set.\n",
        "update(other_set): Adiciona elementos de other_set ao set.\n",
        "Exemplos de uso"
      ],
      "metadata": {
        "id": "95AdA4n_X-wP"
      }
    },
    {
      "cell_type": "code",
      "source": [
        "# Criando um conjunto\n",
        "frutas = {\"maçã\", \"banana\", \"laranja\"}\n",
        "\n",
        "# Adicionando elementos\n",
        "frutas.add(\"uva\")\n",
        "\n",
        "# Removendo elementos\n",
        "frutas.remove(\"banana\")\n",
        "frutas.discard(\"abacaxi\")  # Não causa erro\n",
        "\n",
        "# Operações de conjuntos\n",
        "frutas_a = {\"maçã\", \"banana\", \"laranja\"}\n",
        "frutas_b = {\"banana\", \"abacaxi\", \"uva\"}\n",
        "\n",
        "# União\n",
        "print(frutas_a | frutas_b)  # Saída: {'maçã', 'banana', 'laranja', 'abacaxi', 'uva'}\n",
        "\n",
        "# Interseção\n",
        "print(frutas_a & frutas_b)  # Saída: {'banana'}\n",
        "\n",
        "# Diferença\n",
        "print(frutas_a - frutas_b)  # Saída: {'laranja', 'maçã'}\n",
        "\n",
        "# Diferença simétrica\n",
        "print(frutas_a ^ frutas_b)  # Saída: {'laranja', 'abacaxi', 'maçã', 'uva'}\n"
      ],
      "metadata": {
        "id": "ohPY55_wYAG5"
      },
      "execution_count": null,
      "outputs": []
    },
    {
      "cell_type": "markdown",
      "source": [
        "Resumo\n",
        "Um set é uma coleção de elementos únicos e desordenados.\n",
        "Permite operações de conjunto como união, interseção, diferença e diferença simétrica.\n",
        "Possui métodos para adicionar, remover e verificar a presença de elementos.\n",
        "\n",
        "\n",
        "\n",
        "\n",
        "\n"
      ],
      "metadata": {
        "id": "Yaj3C2y5YJKB"
      }
    },
    {
      "cell_type": "code",
      "source": [
        "# Sets - Conjuntos em Python (tipo set)\n",
        "# Conjuntos são ensinados na matemática\n",
        "# https://brasilescola.uol.com.br/matematica/conjunto.htm\n",
        "# Representados graficamente pelo diagrama de Venn\n",
        "# Sets em Python são mutáveis, porém aceitam apenas\n",
        "# tipos imutáveis como valor interno.\n",
        "\n",
        "# Criando um set\n",
        "# set(iterável) ou {1, 2, 3}\n",
        "# s1 = set('Luiz')\n",
        "s1 = set()  # vazio\n",
        "s1 = {'Luiz', 1, 2, 3}  # com dados\n",
        "\n",
        "# Sets são eficientes para remover valores duplicados\n",
        "# de iteráveis.\n",
        "# - Não aceitam valores mutáveis;\n",
        "# - Seus valores serão sempre únicos;\n",
        "# - não tem índexes;\n",
        "# - não garantem ordem;\n",
        "# - são iteráveis (for, in, not in)\n",
        "\n",
        "# Métodos úteis:\n",
        "# add, update, clear, discard\n",
        "\n",
        "# Operadores úteis:\n",
        "# união | união (union) - Une\n",
        "# intersecção & (intersection) - Itens presentes em ambos\n",
        "# diferença - Itens presentes apenas no set da esquerda\n",
        "# diferença simétrica ^ - Itens que não estão em ambos"
      ],
      "metadata": {
        "id": "suAGRcgUTuEY"
      },
      "execution_count": null,
      "outputs": []
    },
    {
      "cell_type": "code",
      "source": [
        "\"\"\"\n",
        "Exercício\n",
        "Crie uma função que encontra o primeiro duplicado considerando o segundo\n",
        "número como a duplicação. Retorne a duplicação considerada.\n",
        "Requisitos:\n",
        "    A ordem do número duplicado é considerada a partir da segunda\n",
        "    ocorrência do número, ou seja, o número duplicado em si.\n",
        "    Exemplo:\n",
        "        [1, 2, 3, ->3<-, 2, 1] -> 1, 2 e 3 são duplicados (retorne 3)\n",
        "        [1, 2, 3, 4, 5, 6] -> Retorne -1 (não tem duplicados)\n",
        "        [1, 4, 9, 8, ->9<-, 4, 8] (retorne 9)\n",
        "    Se não encontrar duplicados na lista, retorne -1\n",
        "\"\"\"\n",
        "lista_de_listas_de_inteiros = [\n",
        "    [1, 2, 3, 4, 5, 6, 7, 8, 9, 10],\n",
        "    [9, 1, 8, 9, 9, 7, 2, 1, 6, 8],\n",
        "    [1, 3, 2, 2, 8, 6, 5, 9, 6, 7],\n",
        "    [3, 8, 2, 8, 6, 7, 7, 3, 1, 9],\n",
        "    [4, 8, 8, 8, 5, 1, 10, 3, 1, 7],\n",
        "    [1, 3, 7, 2, 2, 1, 5, 1, 9, 9],\n",
        "    [10, 2, 2, 1, 3, 5, 10, 5, 10, 1],\n",
        "    [1, 6, 1, 5, 1, 1, 1, 4, 7, 3],\n",
        "    [1, 3, 7, 1, 10, 5, 9, 2, 5, 7],\n",
        "    [4, 7, 6, 5, 2, 9, 2, 1, 2, 1],\n",
        "    [5, 3, 1, 8, 5, 7, 1, 8, 8, 7],\n",
        "    [10, 9, 8, 7, 6, 5, 4, 3, 2, 1],\n",
        "]"
      ],
      "metadata": {
        "id": "XxgqNTelKeSP"
      },
      "execution_count": null,
      "outputs": []
    },
    {
      "cell_type": "code",
      "source": [
        "def encontra_primeiro_duplicado(lista):\n",
        "    numeros_vistos = set()\n",
        "\n",
        "    for numero in lista:\n",
        "        if numero in numeros_vistos:\n",
        "            return numero\n",
        "        numeros_vistos.add(numero)\n",
        "\n",
        "    return -1\n",
        "\n",
        "# Teste com as listas fornecidas\n",
        "lista_de_listas_de_inteiros = [\n",
        "    [1, 2, 3, 4, 5, 6, 7, 8, 9, 10],\n",
        "    [9, 1, 8, 9, 9, 7, 2, 1, 6, 8],\n",
        "    [1, 3, 2, 2, 8, 6, 5, 9, 6, 7],\n",
        "    [3, 8, 2, 8, 6, 7, 7, 3, 1, 9],\n",
        "    [4, 8, 8, 8, 5, 1, 10, 3, 1, 7],\n",
        "    [1, 3, 7, 2, 2, 1, 5, 1, 9, 9],\n",
        "    [10, 2, 2, 1, 3, 5, 10, 5, 10, 1],\n",
        "    [1, 6, 1, 5, 1, 1, 1, 4, 7, 3],\n",
        "    [1, 3, 7, 1, 10, 5, 9, 2, 5, 7],\n",
        "    [4, 7, 6, 5, 2, 9, 2, 1, 2, 1],\n",
        "    [5, 3, 1, 8, 5, 7, 1, 8, 8, 7],\n",
        "    [10, 9, 8, 7, 6, 5, 4, 3, 2, 1],\n",
        "]\n",
        "\n",
        "# Aplicando a função a cada lista e imprimindo o resultado\n",
        "for i, lista in enumerate(lista_de_listas_de_inteiros):\n",
        "    resultado = encontra_primeiro_duplicado(lista)\n",
        "    print(f\"Lista {i + 1}: {resultado}\")\n"
      ],
      "metadata": {
        "colab": {
          "base_uri": "https://localhost:8080/"
        },
        "id": "cc8vkbX9ZGRr",
        "outputId": "42743414-34bd-48c1-c943-37f34df4ec2d"
      },
      "execution_count": null,
      "outputs": [
        {
          "output_type": "stream",
          "name": "stdout",
          "text": [
            "Lista 1: -1\n",
            "Lista 2: 9\n",
            "Lista 3: 2\n",
            "Lista 4: 8\n",
            "Lista 5: 8\n",
            "Lista 6: 2\n",
            "Lista 7: 2\n",
            "Lista 8: 1\n",
            "Lista 9: 1\n",
            "Lista 10: 2\n",
            "Lista 11: 5\n",
            "Lista 12: -1\n"
          ]
        }
      ]
    },
    {
      "cell_type": "markdown",
      "source": [
        "Explicação do Código\n",
        "Função encontra_primeiro_duplicado:\n",
        "\n",
        "Inicializamos um conjunto vazio numeros_vistos para rastrear os números que já vimos.\n",
        "Iteramos sobre cada número na lista.\n",
        "Se o número já estiver em numeros_vistos, retornamos esse número, pois é o primeiro duplicado.\n",
        "Caso contrário, adicionamos o número a numeros_vistos.\n",
        "Se percorremos toda a lista sem encontrar duplicados, retornamos -1.\n",
        "Teste da Função:\n",
        "\n",
        "Usamos um loop for para aplicar a função encontra_primeiro_duplicado a cada lista em lista_de_listas_de_inteiros.\n",
        "Imprimimos o resultado para cada lista.\n",
        "Resultado\n",
        "O código imprimirá os primeiros duplicados (ou -1 se não houver duplicados) para cada uma das listas fornecidas. Esta abordagem é eficiente porque utiliza um conjunto (set) para manter o controle dos números vistos, o que permite a verificação de duplicados em tempo constante.\n",
        "\n",
        "\n",
        "\n",
        "\n",
        "\n",
        "\n"
      ],
      "metadata": {
        "id": "P6142v5qZVM1"
      }
    },
    {
      "cell_type": "markdown",
      "source": [
        "A lógica do código para encontrar o primeiro número duplicado em uma lista é a seguinte:\n",
        "\n",
        "Inicialização:\n",
        "\n",
        "Começamos criando um conjunto vazio chamado numeros_vistos. Este conjunto será usado para rastrear os números que já encontramos enquanto percorremos a lista.\n",
        "Iteração Sobre a Lista:\n",
        "\n",
        "Percorremos cada número na lista, um por um, usando um loop for.\n",
        "Verificação de Duplicados:\n",
        "\n",
        "Para cada número na lista, verificamos se ele já está presente no conjunto numeros_vistos.\n",
        "Se o número já estiver no conjunto, isso significa que encontramos o primeiro duplicado. Então, retornamos esse número imediatamente.\n",
        "Se o número não estiver no conjunto, adicionamos ele ao conjunto e continuamos para o próximo número na lista.\n",
        "Resultado Final:\n",
        "\n",
        "Se percorremos toda a lista e não encontramos nenhum número duplicado, retornamos -1 indicando que não há duplicados na lista.\n",
        "Pseudocódigo\n",
        "Aqui está uma representação em pseudocódigo da lógica:"
      ],
      "metadata": {
        "id": "5u2ja8PaeaIs"
      }
    },
    {
      "cell_type": "code",
      "source": [
        "função encontra_primeiro_duplicado(lista):\n",
        "    criar um conjunto vazio chamado numeros_vistos\n",
        "\n",
        "    para cada numero em lista:\n",
        "        se numero estiver em numeros_vistos:\n",
        "            retornar numero\n",
        "        adicionar numero a numeros_vistos\n",
        "\n",
        "    retornar -1 (se nenhum duplicado for encontrado)\n"
      ],
      "metadata": {
        "id": "v7xDJ649eeZq"
      },
      "execution_count": null,
      "outputs": []
    },
    {
      "cell_type": "markdown",
      "source": [
        "Explicação do Fluxo\n",
        "Conjunto numeros_vistos: Usamos um conjunto porque a operação de verificação de existência (numero in numeros_vistos) é muito rápida, geralmente O(1) em complexidade de tempo.\n",
        "\n",
        "Loop for: O loop percorre cada elemento da lista uma vez. Para cada elemento:\n",
        "\n",
        "Verificação: if numero in numeros_vistos: verifica se o número já foi visto.\n",
        "Ação Condicional:\n",
        "Se o número já foi visto, retornamos imediatamente esse número como o primeiro duplicado.\n",
        "Se o número não foi visto, adicionamos ele ao conjunto numeros_vistos usando numeros_vistos.add(numero).\n",
        "Retorno:\n",
        "\n",
        "Se completarmos o loop sem encontrar um duplicado, retornamos -1 para indicar que não há duplicados.\n",
        "Exemplos Passo a Passo\n",
        "Exemplo 1: [1, 2, 3, 4, 5, 6, 7, 8, 9, 10]\n",
        "numeros_vistos começa como {}\n",
        "Iteramos pela lista: 1, 2, 3, 4, 5, 6, 7, 8, 9, 10\n",
        "Cada número é adicionado ao conjunto sem encontrar duplicados.\n",
        "Retornamos -1 pois não há duplicados.\n",
        "Exemplo 2: [9, 1, 8, 9, 9, 7, 2, 1, 6, 8]\n",
        "numeros_vistos começa como {}\n",
        "Iteramos pela lista: 9, 1, 8\n",
        "numeros_vistos é {9, 1, 8}\n",
        "Quando encontramos o segundo 9, 9 in numeros_vistos é True\n",
        "Retornamos 9 como o primeiro duplicado.\n",
        "Esta lógica é eficiente e clara, permitindo a rápida identificação do primeiro número duplicado em uma lista."
      ],
      "metadata": {
        "id": "T0fOAK1KeibQ"
      }
    },
    {
      "cell_type": "markdown",
      "source": [
        "### A expressão lambda em Python é uma forma de criar pequenas funções anônimas (ou funções sem nome) de maneira rápida e concisa. Ela é frequentemente usada em situações onde uma função é necessária apenas temporariamente e é mais simples do que definir uma função completa usando def.\n",
        "\n",
        "Sintaxe\n",
        "A sintaxe básica de uma expressão lambda é a seguinte:\n",
        "\n"
      ],
      "metadata": {
        "id": "-5PvjcfFkcRv"
      }
    },
    {
      "cell_type": "code",
      "source": [
        "lambda argumentos: expressão\n"
      ],
      "metadata": {
        "id": "eFO2T10wkeqB"
      },
      "execution_count": null,
      "outputs": []
    },
    {
      "cell_type": "markdown",
      "source": [
        "Características\n",
        "Anônima: Não tem nome, a menos que você a atribua a uma variável.\n",
        "Curta: Geralmente é usada para funções simples e curtas.\n",
        "Expressão Única: Contém apenas uma expressão e retorna o valor dessa expressão.\n",
        "Exemplos\n",
        "1. Função lambda para somar dois números"
      ],
      "metadata": {
        "id": "1oDWGK9dkjWW"
      }
    },
    {
      "cell_type": "code",
      "source": [
        "soma = lambda x, y: x + y\n",
        "print(soma(2, 3))  # Saída: 5\n"
      ],
      "metadata": {
        "id": "J1a0mfb4kks9"
      },
      "execution_count": null,
      "outputs": []
    },
    {
      "cell_type": "markdown",
      "source": [
        "Aqui, lambda x, y: x + y define uma função anônima que recebe dois argumentos x e y e retorna a soma deles.\n",
        "\n",
        "2. Uso com map\n",
        "O map aplica uma função a todos os itens de uma lista (ou qualquer iterável) e retorna um novo iterável com os resultados."
      ],
      "metadata": {
        "id": "Mhqs-Mhckm8c"
      }
    },
    {
      "cell_type": "code",
      "source": [
        "numeros = [1, 2, 3, 4]\n",
        "dobros = map(lambda x: x * 2, numeros)\n",
        "print(list(dobros))  # Saída: [2, 4, 6, 8]\n"
      ],
      "metadata": {
        "id": "M6FG6yn5koP2"
      },
      "execution_count": null,
      "outputs": []
    },
    {
      "cell_type": "markdown",
      "source": [
        "Neste exemplo, lambda x: x * 2 é usada para dobrar cada número na lista numeros.\n",
        "\n",
        "3. Uso com filter\n",
        "O filter retorna um iterável contendo apenas os itens que satisfazem uma condição (a função lambda retorna True).\n",
        "\n"
      ],
      "metadata": {
        "id": "rkxkXorPkscM"
      }
    },
    {
      "cell_type": "code",
      "source": [
        "numeros = [1, 2, 3, 4, 5, 6]\n",
        "pares = filter(lambda x: x % 2 == 0, numeros)\n",
        "print(list(pares))  # Saída: [2, 4, 6]\n"
      ],
      "metadata": {
        "id": "KP1fkHBAkuIU"
      },
      "execution_count": null,
      "outputs": []
    },
    {
      "cell_type": "markdown",
      "source": [
        "Aqui, lambda x: x % 2 == 0 é usada para filtrar apenas os números pares da lista numeros.\n",
        "\n",
        "4. Uso com sorted\n",
        "O sorted pode usar uma função lambda para determinar a ordem de classificação."
      ],
      "metadata": {
        "id": "Yv-150KLkwDT"
      }
    },
    {
      "cell_type": "code",
      "source": [
        "pessoas = [('João', 25), ('Ana', 30), ('Carlos', 20)]\n",
        "ordenado_por_idade = sorted(pessoas, key=lambda x: x[1])\n",
        "print(ordenado_por_idade)  # Saída: [('Carlos', 20), ('João', 25), ('Ana', 30)]\n"
      ],
      "metadata": {
        "id": "90qU71nykyPT"
      },
      "execution_count": null,
      "outputs": []
    },
    {
      "cell_type": "markdown",
      "source": [
        "Aqui, lambda x: x[1] é usada para ordenar a lista pessoas pela idade.\n",
        "\n",
        "Comparação com Funções Definidas\n",
        "Definir uma função usando lambda:\n",
        "\n",
        "python\n"
      ],
      "metadata": {
        "id": "FNr90L1nk1iR"
      }
    },
    {
      "cell_type": "code",
      "source": [
        "soma = lambda x, y: x + y\n"
      ],
      "metadata": {
        "id": "0ieuvRfFk5Xy"
      },
      "execution_count": null,
      "outputs": []
    },
    {
      "cell_type": "markdown",
      "source": [
        "Definir a mesma função usando def:"
      ],
      "metadata": {
        "id": "8qy7amX3k7EJ"
      }
    },
    {
      "cell_type": "code",
      "source": [
        "def soma(x, y):\n",
        "    return x + y\n"
      ],
      "metadata": {
        "id": "0vVPacg7k9Er"
      },
      "execution_count": null,
      "outputs": []
    },
    {
      "cell_type": "markdown",
      "source": [
        "Embora ambas façam a mesma coisa, a versão lambda é mais concisa. No entanto, para funções mais complexas, usar def é geralmente mais claro e legível.\n",
        "\n",
        "Quando Usar lambda\n",
        "Funções Temporárias: Quando você precisa de uma função apenas uma vez.\n",
        "Simplificação: Para simplificar o código, especialmente em operações como map, filter e sorted.\n",
        "Código Curto: Em expressões curtas e simples.\n",
        "Quando Evitar lambda\n",
        "Complexidade: Quando a função é complexa ou requer múltiplas expressões.\n",
        "Legibilidade: Quando a legibilidade do código é comprometida.\n",
        "Expressões lambda são uma ferramenta útil em Python para criar funções pequenas e anônimas de forma concisa e são especialmente úteis em operações de mapeamento, filtragem e ordenação."
      ],
      "metadata": {
        "id": "D3C_tG95lAAq"
      }
    },
    {
      "cell_type": "markdown",
      "source": [
        "Empacotamento e desempacotamento de dicionários são conceitos importantes em Python, especialmente quando lidamos com funções e argumentos. Aqui está uma explicação detalhada de ambos os conceitos:\n",
        "\n",
        "Empacotamento de Dicionários\n",
        "Empacotamento de dicionários é o processo de combinar vários pares de chave-valor em um único dicionário. Isso é frequentemente feito usando o operador **.\n",
        "\n",
        "Exemplo:\n",
        "Suponha que você tenha vários pares de chave-valor separados e queira combiná-los em um dicionário."
      ],
      "metadata": {
        "id": "n3AhvlWqmLLO"
      }
    },
    {
      "cell_type": "code",
      "source": [
        "# Pares de chave-valor\n",
        "a = {'x': 1}\n",
        "b = {'y': 2}\n",
        "c = {'z': 3}\n",
        "\n",
        "# Empacotando em um único dicionário\n",
        "combined = {**a, **b, **c}\n",
        "\n",
        "print(combined)\n",
        "# Saída: {'x': 1, 'y': 2, 'z': 3}\n"
      ],
      "metadata": {
        "id": "SvnIw42hmMmH"
      },
      "execution_count": null,
      "outputs": []
    },
    {
      "cell_type": "markdown",
      "source": [
        "Desempacotamento de Dicionários\n",
        "Desempacotamento de dicionários é o processo de espalhar os pares de chave-valor de um dicionário, geralmente ao passar argumentos para uma função.\n",
        "\n",
        "Exemplo:\n",
        "Suponha que você tenha uma função que aceita vários argumentos nomeados."
      ],
      "metadata": {
        "id": "xysBHED_mOvh"
      }
    },
    {
      "cell_type": "code",
      "source": [
        "def my_function(x, y, z):\n",
        "    print(x, y, z)\n",
        "\n",
        "# Dicionário com argumentos\n",
        "args = {'x': 1, 'y': 2, 'z': 3}\n",
        "\n",
        "# Desempacotando o dicionário como argumentos\n",
        "my_function(**args)\n",
        "# Saída: 1 2 3\n"
      ],
      "metadata": {
        "id": "cjO6pmxOmQOY"
      },
      "execution_count": null,
      "outputs": []
    },
    {
      "cell_type": "markdown",
      "source": [
        "Empacotamento e Desempacotamento em Funções\n",
        "Empacotamento\n",
        "Você pode usar o operador ** para empacotar argumentos nomeados em um dicionário dentro de uma função."
      ],
      "metadata": {
        "id": "2URRtmKdmSwg"
      }
    },
    {
      "cell_type": "code",
      "source": [
        "def my_function(**kwargs):\n",
        "    print(kwargs)\n",
        "\n",
        "my_function(a=1, b=2, c=3)\n",
        "# Saída: {'a': 1, 'b': 2, 'c': 3}\n"
      ],
      "metadata": {
        "id": "bf2yn1EvmUOO"
      },
      "execution_count": null,
      "outputs": []
    },
    {
      "cell_type": "markdown",
      "source": [
        "Desempacotamento\n",
        "Da mesma forma, você pode desempacotar um dicionário ao chamar uma função que aceita argumentos nomeados.\n",
        "\n"
      ],
      "metadata": {
        "id": "HWdDHdHVmXdk"
      }
    },
    {
      "cell_type": "code",
      "source": [
        "def my_function(a, b, c):\n",
        "    print(a, b, c)\n",
        "\n",
        "args = {'a': 1, 'b': 2, 'c': 3}\n",
        "my_function(**args)\n",
        "# Saída: 1 2 3\n"
      ],
      "metadata": {
        "id": "G90OrUyEmYhn"
      },
      "execution_count": null,
      "outputs": []
    },
    {
      "cell_type": "markdown",
      "source": [
        "Uso em Combinações e Atualizações de Dicionários\n",
        "Você pode usar o empacotamento para combinar dicionários de maneira conveniente."
      ],
      "metadata": {
        "id": "3Q6-oVGWmagY"
      }
    },
    {
      "cell_type": "code",
      "source": [
        "dict1 = {'a': 1, 'b': 2}\n",
        "dict2 = {'b': 3, 'c': 4}\n",
        "\n",
        "# Combinação com empacotamento\n",
        "combined_dict = {**dict1, **dict2}\n",
        "\n",
        "print(combined_dict)\n",
        "# Saída: {'a': 1, 'b': 3, 'c': 4}\n"
      ],
      "metadata": {
        "id": "NSBYxCI_mbtO"
      },
      "execution_count": null,
      "outputs": []
    },
    {
      "cell_type": "markdown",
      "source": [
        "Neste exemplo, a chave 'b' do dict2 substitui a chave 'b' do dict1.\n",
        "\n",
        "Empacotamento e desempacotamento de dicionários são ferramentas poderosas que permitem manipular dados de maneira flexível e eficiente em Python. Se precisar de mais detalhes ou exemplos específicos, sinta-se à vontade para perguntar!\n",
        "\n",
        "\n",
        "\n",
        "\n",
        "\n",
        "\n"
      ],
      "metadata": {
        "id": "N6CplrJNmeQR"
      }
    },
    {
      "cell_type": "markdown",
      "source": [
        "List comprehension em Python é uma maneira concisa de criar listas. Ela permite gerar uma nova lista aplicando uma expressão a cada item de um iterável existente (como uma lista, tupla ou string) e pode também incluir condições opcionais. A sintaxe é:"
      ],
      "metadata": {
        "id": "M-ywnmsQtKTu"
      }
    },
    {
      "cell_type": "code",
      "source": [
        "[expressão for item in iterável if condição]\n"
      ],
      "metadata": {
        "id": "lS4q89_FtM52"
      },
      "execution_count": null,
      "outputs": []
    },
    {
      "cell_type": "markdown",
      "source": [
        "Aqui está a explicação de cada parte:\n",
        "\n",
        "expressão: o valor que será incluído na nova lista.\n",
        "item: um elemento do iterável original.\n",
        "iterável: a sequência original de elementos (como uma lista).\n",
        "condição: uma condição opcional que filtra quais elementos serão incluídos na nova lista.\n",
        "Por exemplo, para criar uma lista dos quadrados dos números de 0 a 9:"
      ],
      "metadata": {
        "id": "6Gwdm4drtPjn"
      }
    },
    {
      "cell_type": "code",
      "source": [
        "quadrados = [x**2 for x in range(10)]\n"
      ],
      "metadata": {
        "id": "XMYhyZYWtSNa"
      },
      "execution_count": null,
      "outputs": []
    },
    {
      "cell_type": "markdown",
      "source": [
        "Para criar uma lista com apenas os números pares de 0 a 9:"
      ],
      "metadata": {
        "id": "CMJZi6qttU5F"
      }
    },
    {
      "cell_type": "code",
      "source": [
        "pares = [x for x in range(10) if x % 2 == 0]\n"
      ],
      "metadata": {
        "id": "sILL8Ex_tXJO"
      },
      "execution_count": null,
      "outputs": []
    },
    {
      "cell_type": "markdown",
      "source": [
        "Esses exemplos mostram como list comprehensions podem tornar o código mais compacto e legível."
      ],
      "metadata": {
        "id": "WoE_Y4m3ta80"
      }
    },
    {
      "cell_type": "markdown",
      "source": [
        "### A função isinstance() em Python é usada para verificar se um objeto é de um tipo ou classe específica. A sintaxe é:"
      ],
      "metadata": {
        "id": "90ythZiSxrUT"
      }
    },
    {
      "cell_type": "code",
      "source": [
        "isinstance(objeto, classe)\n"
      ],
      "metadata": {
        "id": "EDXjB30IxvP7"
      },
      "execution_count": null,
      "outputs": []
    },
    {
      "cell_type": "markdown",
      "source": [
        "Aqui está a explicação de cada parte:\n",
        "\n",
        "objeto: o objeto que você quer testar.\n",
        "classe: o tipo ou classe que você quer verificar se o objeto pertence.\n",
        "A função retorna True se o objeto for uma instância da classe especificada ou de uma subclasse dela, e False caso contrário.\n",
        "\n",
        "Exemplos\n",
        "Verificar se um número é um inteiro:"
      ],
      "metadata": {
        "id": "J-ffsaD_xy78"
      }
    },
    {
      "cell_type": "code",
      "source": [
        "x = 10\n",
        "print(isinstance(x, int))  # Saída: True\n"
      ],
      "metadata": {
        "id": "GJweKOxfx0eR"
      },
      "execution_count": null,
      "outputs": []
    },
    {
      "cell_type": "markdown",
      "source": [
        "Verificar se um texto é uma string:"
      ],
      "metadata": {
        "id": "xkK7katvx2no"
      }
    },
    {
      "cell_type": "code",
      "source": [
        "texto = \"Olá, mundo!\"\n",
        "print(isinstance(texto, str))  # Saída: True\n"
      ],
      "metadata": {
        "id": "b5gkPmPSx4RA"
      },
      "execution_count": null,
      "outputs": []
    },
    {
      "cell_type": "markdown",
      "source": [
        "Verificar se uma lista é uma lista:"
      ],
      "metadata": {
        "id": "IM2qJ6e5x8bO"
      }
    },
    {
      "cell_type": "code",
      "source": [
        "lista = [1, 2, 3]\n",
        "print(isinstance(lista, list))  # Saída: True\n"
      ],
      "metadata": {
        "id": "UG9-i1Vsx7kG"
      },
      "execution_count": null,
      "outputs": []
    },
    {
      "cell_type": "markdown",
      "source": [
        "Verificar se um objeto é de uma das várias classes (usando uma tupla de classes):"
      ],
      "metadata": {
        "id": "gSr4D5uEyAWg"
      }
    },
    {
      "cell_type": "code",
      "source": [
        "y = 5.5\n",
        "print(isinstance(y, (int, float)))  # Saída: True\n"
      ],
      "metadata": {
        "id": "Ah8WkCgYyBss"
      },
      "execution_count": null,
      "outputs": []
    },
    {
      "cell_type": "markdown",
      "source": [
        "Esses exemplos mostram como isinstance() pode ser útil para garantir que um objeto é do tipo esperado antes de realizar operações específicas com ele."
      ],
      "metadata": {
        "id": "jFt0fP8gyElt"
      }
    },
    {
      "cell_type": "code",
      "source": [
        "lista = [\n",
        "    'a', 1, 1.1, True, [0, 1, 2], (1, 2),\n",
        "    {0, 1}, {'nome': 'Luiz'},\n",
        "]\n",
        "\n",
        "for item in lista:\n",
        "    if isinstance(item, set):  # Verifica se é um conjunto\n",
        "        print('SET')\n",
        "        item.add(5)  # Adiciona 5 ao conjunto\n",
        "        print(item, isinstance(item, set))  # Imprime o conjunto e verifica novamente\n",
        "\n",
        "    elif isinstance(item, str):  # Verifica se é uma string\n",
        "        print('STR')\n",
        "        print(item.upper())  # Converte para maiúsculas e imprime\n",
        "\n",
        "    elif isinstance(item, (int, float)):  # Verifica se é um número (inteiro ou float)\n",
        "        print('NUM')\n",
        "        print(item, item * 2)  # Imprime o número e seu dobro\n",
        "\n",
        "    else:  # Caso contrário, é um tipo \"outro\"\n",
        "        print('OUTRO')\n",
        "        print(item)  # Imprime o item\n"
      ],
      "metadata": {
        "id": "qN2UaVKSyZZu"
      },
      "execution_count": null,
      "outputs": []
    },
    {
      "cell_type": "markdown",
      "source": [
        "# Valores Truthy e Falsy\n",
        "\n",
        "Em Python, qualquer valor pode ser avaliado como verdadeiro ou falso quando usado em um contexto de teste condicional. Valores que são considerados \"falsy\" retornam False em uma expressão booleana, enquanto valores \"truthy\" retornam True.\n",
        "\n",
        "Valores \"falsy\" comuns incluem:\n",
        "\n",
        "[] (lista vazia)\n",
        "\n",
        "{} (dicionário vazio)\n",
        "\n",
        "set()\n",
        "(conjunto vazio)\n",
        "\n",
        "()\n",
        "(tupla vazia)\n",
        "\n",
        "\"\"\n",
        " (string vazia)\n",
        "\n",
        "0 (inteiro zero)\n",
        "\n",
        "0.0 (float zero)\n",
        "\n",
        "None\n",
        "\n",
        "False\n",
        "\n",
        "range(0)\n",
        " (intervalo vazio)\n",
        "\n",
        "Tipos Mutáveis e Imutáveis\n",
        "\n",
        "Tipos mutáveis podem ser alterados após a criação, enquanto tipos imutáveis não podem.\n",
        "\n",
        "Mutáveis: list, dict, set\n",
        "\n",
        "Imutáveis: tuple, str, int, float, NoneType, bool, range\n",
        "\n",
        "Função falsy\n",
        "A função falsy verifica se um valor é \"falsy\" retornando 'falsy' se o valor for avaliado como False e 'truthy' caso contrário.\n",
        "\n",
        "Exemplos\n",
        "O código verifica os valores \"truthy\" e \"falsy\" dos seguintes itens e imprime o resultado:"
      ],
      "metadata": {
        "id": "M_JgRz3cza9_"
      }
    },
    {
      "cell_type": "code",
      "source": [
        "lista = []\n",
        "dicionario = {}\n",
        "conjunto = set()\n",
        "tupla = ()\n",
        "string = ''\n",
        "inteiro = 0\n",
        "flutuante = 0.0\n",
        "nada = None\n",
        "falso = False\n",
        "intervalo = range(0)\n",
        "\n",
        "def falsy(valor):\n",
        "    return 'falsy' if not valor else 'truthy'\n",
        "\n",
        "print(f'TESTE', falsy('TESTE'))  # Testa uma string não vazia (truthy)\n",
        "print(f'{lista=}', falsy(lista))  # Lista vazia (falsy)\n",
        "print(f'{dicionario=}', falsy(dicionario))  # Dicionário vazio (falsy)\n",
        "print(f'{conjunto=}', falsy(conjunto))  # Conjunto vazio (falsy)\n",
        "print(f'{tupla=}', falsy(tupla))  # Tupla vazia (falsy)\n",
        "print(f'{string=}', falsy(string))  # String vazia (falsy)\n",
        "print(f'{inteiro=}', falsy(inteiro))  # Inteiro zero (falsy)\n",
        "print(f'{flutuante=}', falsy(flutuante))  # Float zero (falsy)\n",
        "print(f'{nada=}', falsy(nada))  # None (falsy)\n",
        "print(f'{falso=}', falsy(falso))  # False (falsy)\n",
        "print(f'{intervalo=}', falsy(intervalo))  # Intervalo vazio (falsy)\n"
      ],
      "metadata": {
        "colab": {
          "base_uri": "https://localhost:8080/"
        },
        "id": "FlmqthKHzwqy",
        "outputId": "016521f4-8303-489c-ca6e-07847c837f04"
      },
      "execution_count": 1,
      "outputs": [
        {
          "output_type": "stream",
          "name": "stdout",
          "text": [
            "TESTE truthy\n",
            "lista=[] falsy\n",
            "dicionario={} falsy\n",
            "conjunto=set() falsy\n",
            "tupla=() falsy\n",
            "string='' falsy\n",
            "inteiro=0 falsy\n",
            "flutuante=0.0 falsy\n",
            "nada=None falsy\n",
            "falso=False falsy\n",
            "intervalo=range(0, 0) falsy\n"
          ]
        }
      ]
    },
    {
      "cell_type": "markdown",
      "source": [
        "# dir(), hasattr(), e getattr("
      ],
      "metadata": {
        "id": "-reDg7N21X0V"
      }
    },
    {
      "cell_type": "markdown",
      "source": [
        "Em Python, dir(), hasattr(), e getattr() são funções úteis para inspeção de objetos. Vamos ver como cada uma delas funciona:\n",
        "\n",
        "dir()\n",
        "A função dir() retorna uma lista de atributos e métodos válidos para o objeto passado como argumento. Se nenhum argumento for fornecido, ela retorna uma lista dos nomes no escopo local atual.\n",
        "\n",
        "Exemplo:"
      ],
      "metadata": {
        "id": "24q57VIS1VvQ"
      }
    },
    {
      "cell_type": "code",
      "source": [
        "class Pessoa:\n",
        "    def __init__(self, nome, idade):\n",
        "        self.nome = nome\n",
        "        self.idade = idade\n",
        "\n",
        "    def cumprimentar(self):\n",
        "        return f'Olá, meu nome é {self.nome}'\n",
        "\n",
        "p = Pessoa('João', 30)\n",
        "print(dir(p))\n"
      ],
      "metadata": {
        "colab": {
          "base_uri": "https://localhost:8080/"
        },
        "id": "UrWbC9M81dRM",
        "outputId": "5965c6c5-0b9e-487f-98b1-d8cbe8571b5f"
      },
      "execution_count": 2,
      "outputs": [
        {
          "output_type": "stream",
          "name": "stdout",
          "text": [
            "['__class__', '__delattr__', '__dict__', '__dir__', '__doc__', '__eq__', '__format__', '__ge__', '__getattribute__', '__gt__', '__hash__', '__init__', '__init_subclass__', '__le__', '__lt__', '__module__', '__ne__', '__new__', '__reduce__', '__reduce_ex__', '__repr__', '__setattr__', '__sizeof__', '__str__', '__subclasshook__', '__weakref__', 'cumprimentar', 'idade', 'nome']\n"
          ]
        }
      ]
    },
    {
      "cell_type": "markdown",
      "source": [
        "Isso vai imprimir uma lista de atributos e métodos da instância p da classe Pessoa.\n",
        "\n",
        "hasattr()\n",
        "A função hasattr() verifica se um objeto tem um atributo específico. Ela retorna True se o atributo existe, e False caso contrário.\n",
        "\n",
        "Sintaxe:"
      ],
      "metadata": {
        "id": "E99-23F61gbo"
      }
    },
    {
      "cell_type": "code",
      "source": [
        "hasattr(objeto, 'atributo')\n"
      ],
      "metadata": {
        "colab": {
          "base_uri": "https://localhost:8080/",
          "height": 141
        },
        "id": "-63SJQGs1hxo",
        "outputId": "01e4fa0c-5b6b-4e9d-f2c7-9278dd1ec2d6"
      },
      "execution_count": 3,
      "outputs": [
        {
          "output_type": "error",
          "ename": "NameError",
          "evalue": "name 'objeto' is not defined",
          "traceback": [
            "\u001b[0;31m---------------------------------------------------------------------------\u001b[0m",
            "\u001b[0;31mNameError\u001b[0m                                 Traceback (most recent call last)",
            "\u001b[0;32m<ipython-input-3-f18fd0747f98>\u001b[0m in \u001b[0;36m<cell line: 1>\u001b[0;34m()\u001b[0m\n\u001b[0;32m----> 1\u001b[0;31m \u001b[0mhasattr\u001b[0m\u001b[0;34m(\u001b[0m\u001b[0mobjeto\u001b[0m\u001b[0;34m,\u001b[0m \u001b[0;34m'atributo'\u001b[0m\u001b[0;34m)\u001b[0m\u001b[0;34m\u001b[0m\u001b[0;34m\u001b[0m\u001b[0m\n\u001b[0m",
            "\u001b[0;31mNameError\u001b[0m: name 'objeto' is not defined"
          ]
        }
      ]
    },
    {
      "cell_type": "markdown",
      "source": [
        "Exemplo:"
      ],
      "metadata": {
        "id": "BvHwqnim1jjT"
      }
    },
    {
      "cell_type": "code",
      "source": [
        "print(hasattr(p, 'nome'))  # True\n",
        "print(hasattr(p, 'altura'))  # False\n"
      ],
      "metadata": {
        "colab": {
          "base_uri": "https://localhost:8080/"
        },
        "id": "Ru5eHUmM1lMo",
        "outputId": "8020d39e-b516-42f8-b72f-ff5b2c9522f1"
      },
      "execution_count": 4,
      "outputs": [
        {
          "output_type": "stream",
          "name": "stdout",
          "text": [
            "True\n",
            "False\n"
          ]
        }
      ]
    },
    {
      "cell_type": "markdown",
      "source": [
        "getattr()\n",
        "A função getattr() retorna o valor de um atributo de um objeto. Se o atributo não existir, você pode fornecer um valor padrão opcional para ser retornado, ou deixar sem o valor padrão, resultando em uma exceção AttributeError se o atributo não for encontrado.\n",
        "\n",
        "Sintaxe:"
      ],
      "metadata": {
        "id": "tgJ7lveg1nxt"
      }
    },
    {
      "cell_type": "code",
      "source": [
        "getattr(objeto, 'atributo', valor_padrao)\n"
      ],
      "metadata": {
        "id": "DqtqZ3jz1pEV"
      },
      "execution_count": null,
      "outputs": []
    },
    {
      "cell_type": "code",
      "source": [
        "print(getattr(p, 'nome'))  # 'João'\n",
        "print(getattr(p, 'altura', 'Atributo não encontrado'))  # 'Atributo não encontrado'\n"
      ],
      "metadata": {
        "colab": {
          "base_uri": "https://localhost:8080/"
        },
        "id": "9Y7Oio7S2gj7",
        "outputId": "1d15aeeb-2002-4817-b79e-efd47532f5a4"
      },
      "execution_count": 5,
      "outputs": [
        {
          "output_type": "stream",
          "name": "stdout",
          "text": [
            "João\n",
            "Atributo não encontrado\n"
          ]
        }
      ]
    },
    {
      "cell_type": "markdown",
      "source": [
        "Exemplos Combinados\n",
        "Aqui está um exemplo combinando dir(), hasattr() e getattr():"
      ],
      "metadata": {
        "id": "IJF_nYCP1q3u"
      }
    },
    {
      "cell_type": "code",
      "source": [
        "class Carro:\n",
        "    def __init__(self, marca, modelo):\n",
        "        self.marca = marca\n",
        "        self.modelo = modelo\n",
        "\n",
        "    def descricao(self):\n",
        "        return f'Carro: {self.marca} {self.modelo}'\n",
        "\n",
        "c = Carro('Toyota', 'Corolla')\n",
        "\n",
        "# Usando dir() para listar atributos e métodos\n",
        "print(dir(c))\n",
        "\n",
        "# Verificando a existência de atributos com hasattr()\n",
        "print(hasattr(c, 'marca'))  # True\n",
        "print(hasattr(c, 'ano'))  # False\n",
        "\n",
        "# Obtendo o valor de atributos com getattr()\n",
        "print(getattr(c, 'modelo'))  # 'Corolla'\n",
        "print(getattr(c, 'ano', 'Atributo não encontrado'))  # 'Atributo não encontrado'\n"
      ],
      "metadata": {
        "colab": {
          "base_uri": "https://localhost:8080/"
        },
        "id": "1D9FxzEL1uKo",
        "outputId": "8e71a5a9-65bf-4453-a72d-d9cf491824ab"
      },
      "execution_count": 6,
      "outputs": [
        {
          "output_type": "stream",
          "name": "stdout",
          "text": [
            "['__class__', '__delattr__', '__dict__', '__dir__', '__doc__', '__eq__', '__format__', '__ge__', '__getattribute__', '__gt__', '__hash__', '__init__', '__init_subclass__', '__le__', '__lt__', '__module__', '__ne__', '__new__', '__reduce__', '__reduce_ex__', '__repr__', '__setattr__', '__sizeof__', '__str__', '__subclasshook__', '__weakref__', 'descricao', 'marca', 'modelo']\n",
            "True\n",
            "False\n",
            "Corolla\n",
            "Atributo não encontrado\n"
          ]
        }
      ]
    },
    {
      "cell_type": "markdown",
      "source": [
        "Neste exemplo:\n",
        "\n",
        "dir(c) lista todos os atributos e métodos do objeto c.\n",
        "\n",
        "hasattr(c, 'marca') verifica se c tem um atributo marca.\n",
        "\n",
        "getattr(c, 'modelo') obtém o valor do atributo modelo de c.\n",
        "\n",
        "getattr(c, 'ano', 'Atributo não encontrado') tenta obter o atributo ano de c, retornando uma mensagem padrão se o atributo não existir.\n",
        "\n",
        "Essas funções são extremamente úteis para inspeção e manipulação dinâmica de objetos em Python.\n",
        "\n",
        "\n",
        "\n",
        "\n",
        "\n",
        "\n"
      ],
      "metadata": {
        "id": "nRVk-gba1xES"
      }
    },
    {
      "cell_type": "markdown",
      "source": [
        "# Iterables e Iterators (Iteráveis e Iteradores)"
      ],
      "metadata": {
        "id": "MvdpgvEZ5oWu"
      }
    },
    {
      "cell_type": "markdown",
      "source": [
        "Um iterable é qualquer objeto que pode ser percorrido (iterado). Esses objetos implementam o método especial __iter__(), que retorna um iterator. Exemplos comuns de iterables são listas, tuplas, strings, dicionários e conjuntos.\n",
        "\n",
        "Exemplos de iterables:"
      ],
      "metadata": {
        "id": "v12NgZMt5rS4"
      }
    },
    {
      "cell_type": "code",
      "source": [
        "# Lista\n",
        "lista = [1, 2, 3]\n",
        "\n",
        "# Tupla\n",
        "tupla = (1, 2, 3)\n",
        "\n",
        "# String\n",
        "string = \"abc\"\n",
        "\n",
        "# Dicionário\n",
        "dicionario = {'a': 1, 'b': 2, 'c': 3}\n",
        "\n",
        "# Conjunto\n",
        "conjunto = {1, 2, 3}\n"
      ],
      "metadata": {
        "id": "bVHvrYXB5saH"
      },
      "execution_count": null,
      "outputs": []
    },
    {
      "cell_type": "markdown",
      "source": [
        "Iterators\n",
        "Um iterator é um objeto que representa um fluxo de dados. Ele mantém um estado interno e implementa os métodos especiais __iter__() e __next__(). O método __iter__() retorna o próprio iterator, e o método __next__() retorna o próximo item da sequência. Quando não há mais itens a serem retornados, __next__() levanta a exceção StopIteration.\n",
        "\n",
        "Exemplo de um iterator:"
      ],
      "metadata": {
        "id": "VYdmQ0HZ5x6s"
      }
    },
    {
      "cell_type": "code",
      "source": [
        "# Converter um iterable em um iterator\n",
        "iterador = iter(lista)\n",
        "\n",
        "print(next(iterador))  # Saída: 1\n",
        "print(next(iterador))  # Saída: 2\n",
        "print(next(iterador))  # Saída: 3\n",
        "# A próxima chamada a next() levantará StopIteration, pois não há mais itens\n"
      ],
      "metadata": {
        "id": "-pZ9YpFR5zF4"
      },
      "execution_count": null,
      "outputs": []
    },
    {
      "cell_type": "markdown",
      "source": [
        "Criação de Iterators Personalizados\n",
        "Você pode criar seu próprio iterator definindo uma classe que implementa os métodos __iter__() e __next__().\n",
        "\n",
        "Exemplo de um iterator personalizado:"
      ],
      "metadata": {
        "id": "rawtHb6n51Aq"
      }
    },
    {
      "cell_type": "code",
      "source": [
        "class Contador:\n",
        "    def __init__(self, limite):\n",
        "        self.limite = limite\n",
        "        self.contador = 0\n",
        "\n",
        "    def __iter__(self):\n",
        "        return self\n",
        "\n",
        "    def __next__(self):\n",
        "        if self.contador < self.limite:\n",
        "            self.contador += 1\n",
        "            return self.contador\n",
        "        else:\n",
        "            raise StopIteration\n",
        "\n",
        "# Usando o iterator personalizado\n",
        "contador = Contador(5)\n",
        "for numero in contador:\n",
        "    print(numero)\n"
      ],
      "metadata": {
        "id": "2j2ARnK-52QT"
      },
      "execution_count": null,
      "outputs": []
    },
    {
      "cell_type": "markdown",
      "source": [
        "Iterables e Iterators em Ação\n",
        "O for loop em Python é uma maneira conveniente de iterar sobre iterables sem precisar lidar diretamente com iterators e StopIteration.\n",
        "\n",
        "Exemplo:"
      ],
      "metadata": {
        "id": "6-Tlz_IE54X9"
      }
    },
    {
      "cell_type": "code",
      "source": [
        "# Usando um for loop com um iterable\n",
        "for item in lista:\n",
        "    print(item)\n",
        "\n",
        "# Equivalente usando um iterator explicitamente\n",
        "iterador = iter(lista)\n",
        "while True:\n",
        "    try:\n",
        "        item = next(iterador)\n",
        "        print(item)\n",
        "    except StopIteration:\n",
        "        break\n"
      ],
      "metadata": {
        "id": "xDBEyEod55zL"
      },
      "execution_count": null,
      "outputs": []
    },
    {
      "cell_type": "markdown",
      "source": [
        "Diferença Principal\n",
        "Iterable: É um objeto que pode ser iterado sobre. Possui o método __iter__() que retorna um iterator.\n",
        "Iterator: É um objeto que realiza a iteração. Possui os métodos __iter__() e __next__().\n",
        "Resumo\n",
        "Iterables são objetos que você pode iterar sobre (como listas, tuplas, strings, etc.).\n",
        "Iterators são objetos que realizam a iteração sobre um iterable.\n",
        "Ambos são essenciais para manipulação de coleções de dados em Python, e entender como eles funcionam é fundamental para escrever código eficiente e idiomático."
      ],
      "metadata": {
        "id": "d5UO8CUU58Vh"
      }
    }
  ]
}